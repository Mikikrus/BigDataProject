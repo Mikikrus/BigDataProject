{
 "cells": [
  {
   "cell_type": "markdown",
   "id": "7138e9c2",
   "metadata": {
    "pycharm": {
     "name": "#%% md\n"
    }
   },
   "source": [
    "### Project description"
   ]
  },
  {
   "cell_type": "markdown",
   "id": "de743277",
   "metadata": {
    "pycharm": {
     "name": "#%% md\n"
    }
   },
   "source": [
    "The project is about predicting the number of recommendations of a comment performed on New York Times Comments\n",
    "dataset that can be found under the link https://www.kaggle.com/datasets/aashita/nyt-comments.\n",
    "Main challanges of this project are:\n",
    "* handling large data volume\n",
    "* feature engineering\n",
    "* etc..\n",
    "To "
   ]
  },
  {
   "cell_type": "markdown",
   "id": "844bb535",
   "metadata": {
    "pycharm": {
     "name": "#%% md\n"
    }
   },
   "source": [
    "### Imports"
   ]
  },
  {
   "cell_type": "code",
   "execution_count": 1,
   "id": "ab31dec4",
   "metadata": {
    "pycharm": {
     "name": "#%%\n"
    }
   },
   "outputs": [],
   "source": [
    "import findspark\n",
    "findspark.init()\n",
    "from pyspark.sql import SparkSession\n",
    "from pyspark.sql.functions import *\n",
    "from pyspark.sql.types import DateType\n",
    "import pandas as pd"
   ]
  },
  {
   "cell_type": "code",
   "execution_count": 2,
   "id": "3c4e1bf4",
   "metadata": {
    "pycharm": {
     "name": "#%%\n"
    }
   },
   "outputs": [
    {
     "name": "stderr",
     "output_type": "stream",
     "text": [
      "22/06/25 17:49:47 WARN NativeCodeLoader: Unable to load native-hadoop library for your platform... using builtin-java classes where applicable\n",
      "Using Spark's default log4j profile: org/apache/spark/log4j-defaults.properties\n",
      "Setting default log level to \"WARN\".\n",
      "To adjust logging level use sc.setLogLevel(newLevel). For SparkR, use setLogLevel(newLevel).\n"
     ]
    }
   ],
   "source": [
    "from pyspark import SparkContext, SparkConf\n",
    "conf = SparkConf().setMaster(\"local[8]\").setAppName(\"big_data\")\n",
    "sc = SparkContext.getOrCreate(conf=conf)"
   ]
  },
  {
   "cell_type": "code",
   "execution_count": 3,
   "id": "c177d47c",
   "metadata": {
    "pycharm": {
     "name": "#%%\n"
    }
   },
   "outputs": [],
   "source": [
    "spark = SparkSession.builder.getOrCreate()"
   ]
  },
  {
   "cell_type": "markdown",
   "id": "18505333",
   "metadata": {
    "pycharm": {
     "name": "#%% md\n"
    }
   },
   "source": [
    "### Reading data"
   ]
  },
  {
   "cell_type": "code",
   "execution_count": 4,
   "id": "3881ec7b",
   "metadata": {
    "pycharm": {
     "name": "#%%\n"
    }
   },
   "outputs": [],
   "source": [
    "def read_spark_df(path):\n",
    "    return spark.read.option(\"multiline\",True).option('lineSep','\\n').option(\"header\", True).option(\"delimiter\", \",\").option(\"inferSchema\",True).option(\"escapeQuotes\", True).option(\"quote\", \"\\\"\").option(\"escape\", \"\\\"\").csv(path)"
   ]
  },
  {
   "cell_type": "code",
   "execution_count": 39,
   "id": "c6ef6f29",
   "metadata": {
    "pycharm": {
     "name": "#%%\n"
    }
   },
   "outputs": [
    {
     "name": "stderr",
     "output_type": "stream",
     "text": [
      "                                                                                \r"
     ]
    }
   ],
   "source": [
    "articles_df = read_spark_df('data/nyt-articles-2020.csv')\n",
    "\n",
    "\n",
    "comments_df = read_spark_df('data/nyt-comments-2020.csv')"
   ]
  },
  {
   "cell_type": "code",
   "execution_count": 40,
   "id": "1f2bff20",
   "metadata": {},
   "outputs": [
    {
     "name": "stdout",
     "output_type": "stream",
     "text": [
      "root\n",
      " |-- newsdesk: string (nullable = true)\n",
      " |-- section: string (nullable = true)\n",
      " |-- subsection: string (nullable = true)\n",
      " |-- material: string (nullable = true)\n",
      " |-- headline: string (nullable = true)\n",
      " |-- abstract: string (nullable = true)\n",
      " |-- keywords: string (nullable = true)\n",
      " |-- word_count: integer (nullable = true)\n",
      " |-- pub_date: string (nullable = true)\n",
      " |-- n_comments: integer (nullable = true)\n",
      " |-- uniqueID\r",
      ": string (nullable = true)\n",
      "\n"
     ]
    }
   ],
   "source": [
    "articles_df.printSchema()"
   ]
  },
  {
   "cell_type": "code",
   "execution_count": 41,
   "id": "4f2d056e",
   "metadata": {},
   "outputs": [],
   "source": [
    "comments_df = comments_df.limit(1000)"
   ]
  },
  {
   "cell_type": "code",
   "execution_count": 42,
   "id": "62879223",
   "metadata": {},
   "outputs": [],
   "source": [
    "df = comments_df.withColumn(\"updateDate\", comments_df['updateDate'].cast(DateType()))"
   ]
  },
  {
   "cell_type": "code",
   "execution_count": 43,
   "id": "af46e756",
   "metadata": {
    "pycharm": {
     "name": "#%%\n"
    }
   },
   "outputs": [
    {
     "name": "stdout",
     "output_type": "stream",
     "text": [
      "root\n",
      " |-- commentID: integer (nullable = true)\n",
      " |-- status: string (nullable = true)\n",
      " |-- commentSequence: integer (nullable = true)\n",
      " |-- userID: integer (nullable = true)\n",
      " |-- userDisplayName: string (nullable = true)\n",
      " |-- userLocation: string (nullable = true)\n",
      " |-- userTitle: string (nullable = true)\n",
      " |-- commentBody: string (nullable = true)\n",
      " |-- createDate: string (nullable = true)\n",
      " |-- updateDate: string (nullable = true)\n",
      " |-- approveDate: string (nullable = true)\n",
      " |-- recommendations: integer (nullable = true)\n",
      " |-- replyCount: integer (nullable = true)\n",
      " |-- editorsSelection: boolean (nullable = true)\n",
      " |-- parentID: double (nullable = true)\n",
      " |-- parentUserDisplayName: string (nullable = true)\n",
      " |-- depth: integer (nullable = true)\n",
      " |-- commentType: string (nullable = true)\n",
      " |-- trusted: integer (nullable = true)\n",
      " |-- recommendedFlag: integer (nullable = true)\n",
      " |-- permID: integer (nullable = true)\n",
      " |-- isAnonymous: boolean (nullable = true)\n",
      " |-- articleID: string (nullable = true)\n",
      "\n"
     ]
    }
   ],
   "source": [
    "comments_df.printSchema()"
   ]
  },
  {
   "cell_type": "markdown",
   "id": "5458492c",
   "metadata": {
    "pycharm": {
     "name": "#%% md\n"
    }
   },
   "source": [
    "We can observe that although we used inferSchema some of the columns should be stored as a different data type. Let's fix it."
   ]
  },
  {
   "cell_type": "code",
   "execution_count": 44,
   "id": "c07c2919",
   "metadata": {
    "pycharm": {
     "name": "#%%\n"
    }
   },
   "outputs": [],
   "source": [
    "comments_df=comments_df.withColumn('recommendations',comments_df['recommendations'].cast(\"float\"))\\\n",
    "                        .withColumn(\"createDate\", comments_df['createDate'].cast(DateType()))\\\n",
    "                        .withColumn(\"updateDate\", comments_df['updateDate'].cast(DateType()))\\\n",
    "                        .withColumn(\"approveDate\", comments_df['approveDate'].cast(DateType()))\\\n",
    "                        .withColumn('replyCount',comments_df['replyCount'].cast(\"int\"))\\\n",
    "                        .withColumn('depth',comments_df['depth'].cast(\"int\"))\\\n",
    "                        .withColumn('isAnonymous',comments_df['isAnonymous'].cast(\"int\"))\\\n",
    "                        .withColumn('editorsSelection',comments_df['editorsSelection'].cast(\"int\"))\n",
    "#actually some of the above columns are boolean but pyspark does not provide such datatype so we cast them to int"
   ]
  },
  {
   "cell_type": "code",
   "execution_count": 45,
   "id": "bdceb49a",
   "metadata": {},
   "outputs": [],
   "source": [
    "articles_df = articles_df.withColumn('word_count',articles_df['word_count'].cast(\"int\"))\\\n",
    "                         .withColumn(\"pub_date\", articles_df['pub_date'].cast(DateType()))\\\n",
    "                         .withColumn('n_comments',articles_df['n_comments'].cast(\"int\"))"
   ]
  },
  {
   "cell_type": "code",
   "execution_count": 46,
   "id": "0672ddd3",
   "metadata": {
    "pycharm": {
     "name": "#%%\n"
    }
   },
   "outputs": [
    {
     "name": "stdout",
     "output_type": "stream",
     "text": [
      "root\n",
      " |-- commentID: integer (nullable = true)\n",
      " |-- status: string (nullable = true)\n",
      " |-- commentSequence: integer (nullable = true)\n",
      " |-- userID: integer (nullable = true)\n",
      " |-- userDisplayName: string (nullable = true)\n",
      " |-- userLocation: string (nullable = true)\n",
      " |-- userTitle: string (nullable = true)\n",
      " |-- commentBody: string (nullable = true)\n",
      " |-- createDate: date (nullable = true)\n",
      " |-- updateDate: date (nullable = true)\n",
      " |-- approveDate: date (nullable = true)\n",
      " |-- recommendations: float (nullable = true)\n",
      " |-- replyCount: integer (nullable = true)\n",
      " |-- editorsSelection: integer (nullable = true)\n",
      " |-- parentID: double (nullable = true)\n",
      " |-- parentUserDisplayName: string (nullable = true)\n",
      " |-- depth: integer (nullable = true)\n",
      " |-- commentType: string (nullable = true)\n",
      " |-- trusted: integer (nullable = true)\n",
      " |-- recommendedFlag: integer (nullable = true)\n",
      " |-- permID: integer (nullable = true)\n",
      " |-- isAnonymous: integer (nullable = true)\n",
      " |-- articleID: string (nullable = true)\n",
      "\n"
     ]
    }
   ],
   "source": [
    "comments_df.printSchema()"
   ]
  },
  {
   "cell_type": "code",
   "execution_count": 47,
   "id": "04073825",
   "metadata": {},
   "outputs": [
    {
     "name": "stdout",
     "output_type": "stream",
     "text": [
      "root\n",
      " |-- newsdesk: string (nullable = true)\n",
      " |-- section: string (nullable = true)\n",
      " |-- subsection: string (nullable = true)\n",
      " |-- material: string (nullable = true)\n",
      " |-- headline: string (nullable = true)\n",
      " |-- abstract: string (nullable = true)\n",
      " |-- keywords: string (nullable = true)\n",
      " |-- word_count: integer (nullable = true)\n",
      " |-- pub_date: date (nullable = true)\n",
      " |-- n_comments: integer (nullable = true)\n",
      " |-- uniqueID\r",
      ": string (nullable = true)\n",
      "\n"
     ]
    }
   ],
   "source": [
    "articles_df.printSchema()"
   ]
  },
  {
   "cell_type": "markdown",
   "id": "aebd7a6f",
   "metadata": {
    "pycharm": {
     "name": "#%% md\n"
    }
   },
   "source": [
    "Let's take a look at our target variable"
   ]
  },
  {
   "cell_type": "code",
   "execution_count": 48,
   "id": "86a97d42",
   "metadata": {
    "pycharm": {
     "name": "#%%\n"
    }
   },
   "outputs": [
    {
     "name": "stdout",
     "output_type": "stream",
     "text": [
      "+-------+-----------------+\n",
      "|summary|  recommendations|\n",
      "+-------+-----------------+\n",
      "|  count|             1000|\n",
      "|   mean|           11.986|\n",
      "| stddev|27.61623545055446|\n",
      "|    min|              0.0|\n",
      "|    max|            402.0|\n",
      "+-------+-----------------+\n",
      "\n"
     ]
    }
   ],
   "source": [
    "comments_df.describe(['recommendations']).show()"
   ]
  },
  {
   "cell_type": "markdown",
   "id": "f052ebcc",
   "metadata": {
    "pycharm": {
     "name": "#%% md\n"
    }
   },
   "source": [
    "We can observe that data is contains outliers. We will get rid of them using quantiles."
   ]
  },
  {
   "cell_type": "code",
   "execution_count": 49,
   "id": "a13186e8",
   "metadata": {
    "pycharm": {
     "name": "#%%\n"
    }
   },
   "outputs": [],
   "source": [
    "upper_limit = comments_df.approxQuantile('recommendations', [ 0.9], 0.05)[0]"
   ]
  },
  {
   "cell_type": "code",
   "execution_count": 50,
   "id": "3155001e",
   "metadata": {
    "pycharm": {
     "name": "#%%\n"
    }
   },
   "outputs": [],
   "source": [
    "comments_df = comments_df.filter((col('recommendations')<upper_limit))"
   ]
  },
  {
   "cell_type": "code",
   "execution_count": 51,
   "id": "699dcac3",
   "metadata": {},
   "outputs": [
    {
     "name": "stdout",
     "output_type": "stream",
     "text": [
      "+-------+-----------------+\n",
      "|summary|  recommendations|\n",
      "+-------+-----------------+\n",
      "|  count|              852|\n",
      "|   mean|4.772300469483568|\n",
      "| stddev|5.022607677901019|\n",
      "|    min|              0.0|\n",
      "|    max|             20.0|\n",
      "+-------+-----------------+\n",
      "\n"
     ]
    }
   ],
   "source": [
    "comments_df.describe(['recommendations']).show()"
   ]
  },
  {
   "cell_type": "code",
   "execution_count": 52,
   "id": "522a13f7",
   "metadata": {},
   "outputs": [
    {
     "data": {
      "image/png": "[encoded data removed]",
      "text/plain": [
       "<Figure size 432x288 with 1 Axes>"
      ]
     },
     "metadata": {
      "needs_background": "light"
     },
     "output_type": "display_data"
    }
   ],
   "source": [
    "gre_histogram = comments_df.select('recommendations').rdd.flatMap(lambda x: x).histogram(11)\n",
    "\n",
    "# Loading the Computed Histogram into a Pandas Dataframe for plotting\n",
    "pd.DataFrame(\n",
    "    list(zip(*gre_histogram)), \n",
    "    columns=['bin', 'frequency']\n",
    ").set_index(\n",
    "    'bin'\n",
    ").plot(kind='bar');"
   ]
  },
  {
   "cell_type": "markdown",
   "id": "3331b602",
   "metadata": {},
   "source": [
    "Transformr text to vectors"
   ]
  },
  {
   "cell_type": "code",
   "execution_count": 53,
   "id": "e9645696",
   "metadata": {},
   "outputs": [],
   "source": [
    "from pyspark.ml.feature import StopWordsRemover,Word2Vec\n",
    "from pyspark.sql.functions import monotonically_increasing_id, row_number\n",
    "from pyspark.sql.window import Window\n",
    "import pyspark.sql.functions as F"
   ]
  },
  {
   "cell_type": "code",
   "execution_count": 54,
   "id": "b7763206",
   "metadata": {},
   "outputs": [],
   "source": [
    "comments_df=comments_df.withColumn(\"createDateInt\", F.unix_timestamp(comments_df['createDate']))\n",
    "\n",
    "aritcles_data = articles_df.select(col(\"abstract\"),col(\"pub_date\"),\n",
    "                          col(\"keywords\"),\n",
    "                          col(\"uniqueID\\r\").alias('articleID'))\n",
    "aritcles_data = aritcles_data.withColumn(\"pubDateInt\", F.unix_timestamp(col('pub_date')))\n",
    "# aritcles_data = aritcles_data.filter(~ col('abstract').isNull()) # TODO: nie wywalać tylko uzpełniać średnią wartośćią z wek"
   ]
  },
  {
   "cell_type": "code",
   "execution_count": 55,
   "id": "04b786bd",
   "metadata": {},
   "outputs": [
    {
     "name": "stdout",
     "output_type": "stream",
     "text": [
      "+--------------+------------------+-----------+-------------------+--------------------+--------------------+--------------------+----------+----------+----------+--------------------+\n",
      "|      newsdesk|           section| subsection|           material|            headline|            abstract|            keywords|word_count|  pub_date|n_comments|           uniqueID\r",
      "|\n",
      "+--------------+------------------+-----------+-------------------+--------------------+--------------------+--------------------+----------+----------+----------+--------------------+\n",
      "|     Editorial|           Opinion|       null|          Editorial|Protect Veterans ...|Congress could do...|['Veterans', 'For...|       680|2020-01-01|       186|nyt://article/69a...|\n",
      "|         Games|Crosswords & Games|       null|               News|‘It’s Green and S...|Christina Iverson...|['Crossword Puzzl...|       931|2020-01-01|       257|nyt://article/9ed...|\n",
      "|       Science|           Science|       null|               News|Meteor Showers in...|All year long, Ea...|['Meteors and Met...|      1057|2020-01-01|         6|nyt://article/04b...|\n",
      "|       Science|           Science|       null|Interactive Feature|Sync your calenda...|Never miss an ecl...|['Space and Astro...|         0|2020-01-01|         2|nyt://interactive...|\n",
      "|       Science|           Science|       null|               News|Rocket Launches, ...|A year full of hi...|['Space and Astro...|      1156|2020-01-01|        25|nyt://article/bd8...|\n",
      "|       Foreign|             World|Middle East|               News|Pro-Iranian Prote...|Iran’s ability to...|['Iraq', 'Iran', ...|      1120|2020-01-01|       123|nyt://article/ac7...|\n",
      "|      Magazine|          Magazine|       null|               News|Judge John Hodgma...|If you brother-in...|['Comedy and Humor']|       153|2020-01-01|        22|nyt://article/dea...|\n",
      "|      Magazine|          Magazine|       null|               News|She Felt Fine, bu...|After the 67-year...|['Stroke', 'Brain...|      1395|2020-01-01|       134|nyt://article/dfd...|\n",
      "|      Magazine|          Magazine|       null|               News|These Armenian Fl...|Tangy and juicy, ...|['Cooking and Coo...|       754|2020-01-01|        21|nyt://article/622...|\n",
      "|       Culture|             Books|       null|             Review|‘Don’t Believe a ...|David Shariatmada...|[\"Don't Believe a...|       957|2020-01-01|        21|nyt://article/7d9...|\n",
      "|          Well|              Well|        Eat|               News|Eat Better, Feel ...|Intermittent fast...|['Weight', 'Fasti...|       440|2020-01-01|        58|nyt://article/da7...|\n",
      "|      Magazine|          Magazine|       null|               News|Can You Talk Your...|California is giv...|['California', 'P...|      9781|2020-01-01|       116|nyt://article/47b...|\n",
      "|  Arts&Leisure|              Arts|      Dance|               News|Couture Creations...|An exhibition at ...|['Dancing', 'Fash...|      1608|2020-01-01|         2|nyt://article/ea2...|\n",
      "|    RealEstate|       Real Estate|       null|               News|Bedminster, N.J.:...|Residents of the ...|['Real Estate and...|      1403|2020-01-01|        13|nyt://article/51c...|\n",
      "|SundayBusiness|      Business Day|       null|               News|The Work Diary of...|In an iCal era, t...|['Design', 'Winte...|      1957|2020-01-01|         5|nyt://article/3a4...|\n",
      "|    RealEstate|       Real Estate|       null|               News|$750,000 Homes in...|A brand-new cotta...|['Real Estate and...|       959|2020-01-01|        18|nyt://article/7fe...|\n",
      "|    RealEstate|       Real Estate|       null|               News|House Hunting in ...|In Galicia, where...|['Real Estate and...|      1385|2020-01-01|         6|nyt://article/310...|\n",
      "|  Arts&Leisure|           Theater|       null|               News|Simon Stone Faced...|After a family tr...|['Theater', 'Broo...|      1699|2020-01-01|         2|nyt://article/8f9...|\n",
      "|       Weekend|            Movies|       null|               News|Reading ‘Us’ Thro...|With its star, Lu...|['Movies', 'Peele...|       775|2020-01-01|         3|nyt://article/c42...|\n",
      "|        Styles|             Style|  Self-Care|               News|There Will Be Blo...|Some help — and c...|['Anxiety and Str...|      1416|2020-01-01|        26|nyt://article/41c...|\n",
      "+--------------+------------------+-----------+-------------------+--------------------+--------------------+--------------------+----------+----------+----------+--------------------+\n",
      "only showing top 20 rows\n",
      "\n"
     ]
    }
   ],
   "source": [
    "articles_df.show()"
   ]
  },
  {
   "cell_type": "code",
   "execution_count": 56,
   "id": "ec44f31a",
   "metadata": {
    "scrolled": true
   },
   "outputs": [
    {
     "name": "stdout",
     "output_type": "stream",
     "text": [
      "+--------------------+----------+--------------------+--------------------+----------+\n",
      "|            abstract|  pub_date|            keywords|           articleID|pubDateInt|\n",
      "+--------------------+----------+--------------------+--------------------+----------+\n",
      "|Congress could do...|2020-01-01|['Veterans', 'For...|nyt://article/69a...|1577833200|\n",
      "|Christina Iverson...|2020-01-01|['Crossword Puzzl...|nyt://article/9ed...|1577833200|\n",
      "|All year long, Ea...|2020-01-01|['Meteors and Met...|nyt://article/04b...|1577833200|\n",
      "|Never miss an ecl...|2020-01-01|['Space and Astro...|nyt://interactive...|1577833200|\n",
      "|A year full of hi...|2020-01-01|['Space and Astro...|nyt://article/bd8...|1577833200|\n",
      "|Iran’s ability to...|2020-01-01|['Iraq', 'Iran', ...|nyt://article/ac7...|1577833200|\n",
      "|If you brother-in...|2020-01-01|['Comedy and Humor']|nyt://article/dea...|1577833200|\n",
      "|After the 67-year...|2020-01-01|['Stroke', 'Brain...|nyt://article/dfd...|1577833200|\n",
      "|Tangy and juicy, ...|2020-01-01|['Cooking and Coo...|nyt://article/622...|1577833200|\n",
      "|David Shariatmada...|2020-01-01|[\"Don't Believe a...|nyt://article/7d9...|1577833200|\n",
      "|Intermittent fast...|2020-01-01|['Weight', 'Fasti...|nyt://article/da7...|1577833200|\n",
      "|California is giv...|2020-01-01|['California', 'P...|nyt://article/47b...|1577833200|\n",
      "|An exhibition at ...|2020-01-01|['Dancing', 'Fash...|nyt://article/ea2...|1577833200|\n",
      "|Residents of the ...|2020-01-01|['Real Estate and...|nyt://article/51c...|1577833200|\n",
      "|In an iCal era, t...|2020-01-01|['Design', 'Winte...|nyt://article/3a4...|1577833200|\n",
      "|A brand-new cotta...|2020-01-01|['Real Estate and...|nyt://article/7fe...|1577833200|\n",
      "|In Galicia, where...|2020-01-01|['Real Estate and...|nyt://article/310...|1577833200|\n",
      "|After a family tr...|2020-01-01|['Theater', 'Broo...|nyt://article/8f9...|1577833200|\n",
      "|With its star, Lu...|2020-01-01|['Movies', 'Peele...|nyt://article/c42...|1577833200|\n",
      "|Some help — and c...|2020-01-01|['Anxiety and Str...|nyt://article/41c...|1577833200|\n",
      "+--------------------+----------+--------------------+--------------------+----------+\n",
      "only showing top 20 rows\n",
      "\n"
     ]
    }
   ],
   "source": [
    "aritcles_data.show()"
   ]
  },
  {
   "cell_type": "code",
   "execution_count": 271,
   "id": "d70fe22b",
   "metadata": {},
   "outputs": [],
   "source": [
    "def get_vector(df,column='commentBody',leave_columns =[\"commentID\"]):\n",
    "    df_without_nulls = df.filter(~ col(column).isNull())\n",
    "    df_with_nulls = df.filter(col(column).isNull()).drop(column)\n",
    "    df_without_nulls = df_without_nulls.withColumn(column, trim(regexp_replace(column,'(@\\w+)|[^a-zA-Z\\s]', '')))\n",
    "    df_without_nulls = df_without_nulls.select(*leave_columns,split(col(column),\" \").alias(column))\n",
    "    remover = StopWordsRemover(inputCol=column, outputCol=\"filtered\")\n",
    "    filtered = remover.transform(df_without_nulls)\n",
    "    word2vec = Word2Vec(inputCol=\"filtered\", outputCol=f\"feature_{column}\")\n",
    "    model = word2vec.fit(filtered)\n",
    "    vectorized = model.transform(filtered)\n",
    "    vectorized = vectorized.drop(\"filtered\",column)\n",
    "    df_with_nulls = df_with_nulls.withColumn(f\"feature_{column}\",lit(None))\n",
    "    mean_vector = vectorized.agg(Summarizer.mean(vectorized[f\"feature_{column}\"])).collect()[0][f'mean(feature_{column})']\n",
    "    print(mean_vector,type(mean_vector))\n",
    "    df = df_with_nulls.unionByName(vectorized)\n",
    "    df = df.fillna(value=mean_vector,subset=[f\"feature_{column}\"]).show()\n",
    "#     df = df.withColumn(f\"feature_{column}\",when(col(f\"feature_{column}\").isNull(),mean_vector.toArray())\n",
    "#     .otherwise(f\"feature_{column}\"))\n",
    "#     if df_without_nulls.count() > 0 :\n",
    "#         \n",
    "#         df_without_nulls = df_without_nulls.withColumn(f\"feature_{column}\",mean_vector)\n",
    "    return vectorized"
   ]
  },
  {
   "cell_type": "code",
   "execution_count": null,
   "id": "cc51fd69",
   "metadata": {},
   "outputs": [],
   "source": []
  },
  {
   "cell_type": "code",
   "execution_count": 272,
   "id": "0073d87e",
   "metadata": {
    "scrolled": true
   },
   "outputs": [
    {
     "name": "stdout",
     "output_type": "stream",
     "text": [
      "+--------+----------+--------------------+--------------------+----------+\n",
      "|abstract|  pub_date|            keywords|           articleID|pubDateInt|\n",
      "+--------+----------+--------------------+--------------------+----------+\n",
      "|    null|2020-02-10|['Magazines', 'Wo...|nyt://interactive...|1581289200|\n",
      "|    null|2020-04-08|['United States E...|nyt://interactive...|1586296800|\n",
      "|    null|2020-04-10|['Coronavirus (20...|nyt://article/8db...|1586469600|\n",
      "+--------+----------+--------------------+--------------------+----------+\n",
      "\n"
     ]
    }
   ],
   "source": [
    "aritcles_data.filter(col('abstract').isNull()).show()"
   ]
  },
  {
   "cell_type": "code",
   "execution_count": 273,
   "id": "cbfa2c09",
   "metadata": {},
   "outputs": [],
   "source": [
    "comments_df_leave_columns = ['commentID','createDateInt','approveDate','recommendations','articleID','replyCount']"
   ]
  },
  {
   "cell_type": "code",
   "execution_count": 274,
   "id": "ae638a34",
   "metadata": {},
   "outputs": [
    {
     "name": "stdout",
     "output_type": "stream",
     "text": [
      "root\n",
      " |-- commentID: integer (nullable = true)\n",
      " |-- status: string (nullable = true)\n",
      " |-- commentSequence: integer (nullable = true)\n",
      " |-- userID: integer (nullable = true)\n",
      " |-- userDisplayName: string (nullable = true)\n",
      " |-- userLocation: string (nullable = true)\n",
      " |-- userTitle: string (nullable = true)\n",
      " |-- commentBody: string (nullable = true)\n",
      " |-- createDate: date (nullable = true)\n",
      " |-- updateDate: date (nullable = true)\n",
      " |-- approveDate: date (nullable = true)\n",
      " |-- recommendations: float (nullable = true)\n",
      " |-- replyCount: integer (nullable = true)\n",
      " |-- editorsSelection: integer (nullable = true)\n",
      " |-- parentID: double (nullable = true)\n",
      " |-- parentUserDisplayName: string (nullable = true)\n",
      " |-- depth: integer (nullable = true)\n",
      " |-- commentType: string (nullable = true)\n",
      " |-- trusted: integer (nullable = true)\n",
      " |-- recommendedFlag: integer (nullable = true)\n",
      " |-- permID: integer (nullable = true)\n",
      " |-- isAnonymous: integer (nullable = true)\n",
      " |-- articleID: string (nullable = true)\n",
      " |-- createDateInt: long (nullable = true)\n",
      "\n"
     ]
    }
   ],
   "source": [
    "comments_df.printSchema()"
   ]
  },
  {
   "cell_type": "code",
   "execution_count": 275,
   "id": "d560cb05",
   "metadata": {},
   "outputs": [],
   "source": [
    "from pyspark.sql.functions import lit\n"
   ]
  },
  {
   "cell_type": "code",
   "execution_count": 276,
   "id": "0e878216",
   "metadata": {},
   "outputs": [
    {
     "name": "stderr",
     "output_type": "stream",
     "text": [
      "22/06/25 18:26:47 WARN StopWordsRemover: Default locale set was [en_PL]; however, it was not found in available locales in JVM, falling back to en_US locale. Set param `locale` in order to respect another locale.\n",
      "                                                                                \r"
     ]
    },
    {
     "name": "stdout",
     "output_type": "stream",
     "text": [
      "[-0.0012441148660482198,-0.010444739975608665,0.0009012345517454203,-0.031392856958430096,0.010793640420163304,0.004788966611589248,-0.0012296892581977283,-0.0025237151558445098,0.0018830831073420329,-0.014219584344508533,-0.0013861245997048735,0.009845024454104897,0.005221266376093911,-0.00815617100233778,0.015061516951221468,-0.0040428446732921515,-0.009530282837351252,0.005678722896605618,-0.02453681289036581,-0.013541116265029993,-0.005891485428059491,0.021212994753872963,-0.00890485192744306,-0.011564499974102534,0.0031095371262640364,-0.01994149017878402,0.008532907608074465,0.0026640219517717737,-0.010156986584591443,0.009051973489279783,0.010573908541227113,-0.03354995560083085,0.009727089403236095,-0.014882090031981494,-0.005810592986545153,-0.006152665714236879,-0.004950966921680708,0.0050323325193487615,-0.01887474955708407,0.01713316526806824,0.008636498074683623,0.012209067322886104,-0.021530365671933796,-0.01213663211657956,0.014986533819392469,-0.0031585971843231695,-0.0033260980269773604,-0.004797967116105381,-0.01809684142396263,-0.011135800223519805,-0.018834442477021943,-0.009368443801932276,-0.0054054715691879834,-0.010953349397424277,-0.004554664216759954,-5.71192283173317e-05,-0.016416199286991347,0.029715204322915002,0.0014286768226757314,-0.014531371393130384,-0.030010897747840864,0.01872291078433184,0.009541492718414191,-0.017702944147444218,-0.009271954096614266,-9.286085103711438e-05,-0.007884614211858309,0.004813213202459729,0.008947271692379287,-0.01391754048336873,0.01018229272924952,-0.004790896614234647,-0.018078917497334684,-0.006622155203007379,0.016714101351807856,0.01452291205648117,0.004389327006072915,0.006802557746212595,-0.01440409839310759,-0.002672876208903873,0.0026693733606046916,0.0011052183807033317,0.019761853795777166,0.008197714408073608,0.0012757162341148103,0.009001649342498206,-0.01201761843758492,-0.01845707596688536,0.01855968271176319,0.0007505116325883413,-0.018964172902333102,-0.002468035386435595,0.0010368466106728121,-0.012831586315448262,0.01331822771150323,0.025498727242344605,0.001301463171683419,-0.0005890754534727997,-0.020021882892523223,0.024855277431068863] <class 'pyspark.ml.linalg.DenseVector'>\n"
     ]
    },
    {
     "ename": "ValueError",
     "evalue": "value should be a float, int, string, bool or dict",
     "output_type": "error",
     "traceback": [
      "\u001b[0;31m---------------------------------------------------------------------------\u001b[0m",
      "\u001b[0;31mValueError\u001b[0m                                Traceback (most recent call last)",
      "Input \u001b[0;32mIn [276]\u001b[0m, in \u001b[0;36m<cell line: 5>\u001b[0;34m()\u001b[0m\n\u001b[1;32m      3\u001b[0m articles_df_leave_columns \u001b[38;5;241m=\u001b[39m articles_columns\n\u001b[1;32m      4\u001b[0m \u001b[38;5;66;03m# df = get_vector(comments_df,leave_columns=comments_df_leave_columns)\u001b[39;00m\n\u001b[0;32m----> 5\u001b[0m df2 \u001b[38;5;241m=\u001b[39m \u001b[43mget_vector\u001b[49m\u001b[43m(\u001b[49m\u001b[43maritcles_data\u001b[49m\u001b[43m,\u001b[49m\u001b[43m \u001b[49m\u001b[43mcolumn\u001b[49m\u001b[38;5;241;43m=\u001b[39;49m\u001b[38;5;124;43m'\u001b[39;49m\u001b[38;5;124;43mabstract\u001b[39;49m\u001b[38;5;124;43m'\u001b[39;49m\u001b[43m,\u001b[49m\u001b[43mleave_columns\u001b[49m\u001b[43m \u001b[49m\u001b[38;5;241;43m=\u001b[39;49m\u001b[43m \u001b[49m\u001b[43marticles_df_leave_columns\u001b[49m\u001b[43m)\u001b[49m\n",
      "Input \u001b[0;32mIn [271]\u001b[0m, in \u001b[0;36mget_vector\u001b[0;34m(df, column, leave_columns)\u001b[0m\n\u001b[1;32m     14\u001b[0m     \u001b[38;5;28mprint\u001b[39m(mean_vector,\u001b[38;5;28mtype\u001b[39m(mean_vector))\n\u001b[1;32m     15\u001b[0m     df \u001b[38;5;241m=\u001b[39m df_with_nulls\u001b[38;5;241m.\u001b[39munionByName(vectorized)\n\u001b[0;32m---> 16\u001b[0m     df \u001b[38;5;241m=\u001b[39m \u001b[43mdf\u001b[49m\u001b[38;5;241;43m.\u001b[39;49m\u001b[43mfillna\u001b[49m\u001b[43m(\u001b[49m\u001b[43mvalue\u001b[49m\u001b[38;5;241;43m=\u001b[39;49m\u001b[43mmean_vector\u001b[49m\u001b[43m,\u001b[49m\u001b[43msubset\u001b[49m\u001b[38;5;241;43m=\u001b[39;49m\u001b[43m[\u001b[49m\u001b[38;5;124;43mf\u001b[39;49m\u001b[38;5;124;43m\"\u001b[39;49m\u001b[38;5;124;43mfeature_\u001b[39;49m\u001b[38;5;132;43;01m{\u001b[39;49;00m\u001b[43mcolumn\u001b[49m\u001b[38;5;132;43;01m}\u001b[39;49;00m\u001b[38;5;124;43m\"\u001b[39;49m\u001b[43m]\u001b[49m\u001b[43m)\u001b[49m\u001b[38;5;241m.\u001b[39mshow()\n\u001b[1;32m     17\u001b[0m \u001b[38;5;66;03m#     df = df.withColumn(f\"feature_{column}\",when(col(f\"feature_{column}\").isNull(),mean_vector.toArray())\u001b[39;00m\n\u001b[1;32m     18\u001b[0m \u001b[38;5;66;03m#     .otherwise(f\"feature_{column}\"))\u001b[39;00m\n\u001b[1;32m     19\u001b[0m \u001b[38;5;66;03m#     if df_without_nulls.count() > 0 :\u001b[39;00m\n\u001b[1;32m     20\u001b[0m \u001b[38;5;66;03m#         \u001b[39;00m\n\u001b[1;32m     21\u001b[0m \u001b[38;5;66;03m#         df_without_nulls = df_without_nulls.withColumn(f\"feature_{column}\",mean_vector)\u001b[39;00m\n\u001b[1;32m     22\u001b[0m     \u001b[38;5;28;01mreturn\u001b[39;00m vectorized\n",
      "File \u001b[0;32m~/opt/anaconda3/envs/Bd/lib/python3.9/site-packages/pyspark/sql/dataframe.py:2068\u001b[0m, in \u001b[0;36mDataFrame.fillna\u001b[0;34m(self, value, subset)\u001b[0m\n\u001b[1;32m   2018\u001b[0m \u001b[38;5;124;03m\"\"\"Replace null values, alias for ``na.fill()``.\u001b[39;00m\n\u001b[1;32m   2019\u001b[0m \u001b[38;5;124;03m:func:`DataFrame.fillna` and :func:`DataFrameNaFunctions.fill` are aliases of each other.\u001b[39;00m\n\u001b[1;32m   2020\u001b[0m \n\u001b[0;32m   (...)\u001b[0m\n\u001b[1;32m   2065\u001b[0m \u001b[38;5;124;03m+---+------+-------+\u001b[39;00m\n\u001b[1;32m   2066\u001b[0m \u001b[38;5;124;03m\"\"\"\u001b[39;00m\n\u001b[1;32m   2067\u001b[0m \u001b[38;5;28;01mif\u001b[39;00m \u001b[38;5;129;01mnot\u001b[39;00m \u001b[38;5;28misinstance\u001b[39m(value, (\u001b[38;5;28mfloat\u001b[39m, \u001b[38;5;28mint\u001b[39m, \u001b[38;5;28mstr\u001b[39m, \u001b[38;5;28mbool\u001b[39m, \u001b[38;5;28mdict\u001b[39m)):\n\u001b[0;32m-> 2068\u001b[0m     \u001b[38;5;28;01mraise\u001b[39;00m \u001b[38;5;167;01mValueError\u001b[39;00m(\u001b[38;5;124m\"\u001b[39m\u001b[38;5;124mvalue should be a float, int, string, bool or dict\u001b[39m\u001b[38;5;124m\"\u001b[39m)\n\u001b[1;32m   2070\u001b[0m \u001b[38;5;66;03m# Note that bool validates isinstance(int), but we don't want to\u001b[39;00m\n\u001b[1;32m   2071\u001b[0m \u001b[38;5;66;03m# convert bools to floats\u001b[39;00m\n\u001b[1;32m   2073\u001b[0m \u001b[38;5;28;01mif\u001b[39;00m \u001b[38;5;129;01mnot\u001b[39;00m \u001b[38;5;28misinstance\u001b[39m(value, \u001b[38;5;28mbool\u001b[39m) \u001b[38;5;129;01mand\u001b[39;00m \u001b[38;5;28misinstance\u001b[39m(value, \u001b[38;5;28mint\u001b[39m):\n",
      "\u001b[0;31mValueError\u001b[0m: value should be a float, int, string, bool or dict"
     ]
    }
   ],
   "source": [
    "articles_columns = aritcles_data.columns\n",
    "articles_columns.pop(articles_columns.index('abstract'))\n",
    "articles_df_leave_columns = articles_columns\n",
    "# df = get_vector(comments_df,leave_columns=comments_df_leave_columns)\n",
    "df2 = get_vector(aritcles_data, column='abstract',leave_columns = articles_df_leave_columns)\n",
    "# articles_columns = df2.columns\n",
    "# articles_columns.pop(articles_columns.index('keywords'))\n",
    "# articles_df_leave_columns = articles_columns\n",
    "# df2 = get_vector(df2, column='keywords',leave_columns = articles_df_leave_columns)"
   ]
  },
  {
   "cell_type": "code",
   "execution_count": null,
   "id": "43d45a73",
   "metadata": {},
   "outputs": [],
   "source": [
    "df2"
   ]
  },
  {
   "cell_type": "code",
   "execution_count": 28,
   "id": "2854de16",
   "metadata": {},
   "outputs": [
    {
     "ename": "NameError",
     "evalue": "name 'sdf' is not defined",
     "output_type": "error",
     "traceback": [
      "\u001b[0;31m---------------------------------------------------------------------------\u001b[0m",
      "\u001b[0;31mNameError\u001b[0m                                 Traceback (most recent call last)",
      "Input \u001b[0;32mIn [28]\u001b[0m, in \u001b[0;36m<cell line: 2>\u001b[0;34m()\u001b[0m\n\u001b[1;32m      1\u001b[0m \u001b[38;5;28;01mfrom\u001b[39;00m \u001b[38;5;21;01mpyspark\u001b[39;00m\u001b[38;5;21;01m.\u001b[39;00m\u001b[38;5;21;01mml\u001b[39;00m\u001b[38;5;21;01m.\u001b[39;00m\u001b[38;5;21;01mstat\u001b[39;00m \u001b[38;5;28;01mimport\u001b[39;00m Summarizer\n\u001b[0;32m----> 2\u001b[0m \u001b[43msdf\u001b[49m\u001b[38;5;241m.\u001b[39magg(Summarizer\u001b[38;5;241m.\u001b[39mmean(sdf\u001b[38;5;241m.\u001b[39mVec))\u001b[38;5;241m.\u001b[39mshow()\n",
      "\u001b[0;31mNameError\u001b[0m: name 'sdf' is not defined"
     ]
    }
   ],
   "source": [
    "from pyspark.ml.stat import Summarizer\n",
    "# df.agg(Summarizer.mean(sdf.Vec)).show()"
   ]
  },
  {
   "cell_type": "code",
   "execution_count": null,
   "id": "73649340",
   "metadata": {},
   "outputs": [],
   "source": []
  },
  {
   "cell_type": "code",
   "execution_count": 37,
   "id": "f432ffb3",
   "metadata": {
    "scrolled": true
   },
   "outputs": [
    {
     "data": {
      "text/plain": [
       "0    [-0.0012441148660482198, -0.010444739975608665...\n",
       "Name: mean(feature_abstract), dtype: object"
      ]
     },
     "execution_count": 37,
     "metadata": {},
     "output_type": "execute_result"
    }
   ],
   "source": [
    "df2.agg(Summarizer.mean(df2.feature_abstract)).toPandas()['mean(feature_abstract)']"
   ]
  },
  {
   "cell_type": "code",
   "execution_count": null,
   "id": "6fb141d4",
   "metadata": {},
   "outputs": [],
   "source": [
    "df.show()\n",
    "df2.show()"
   ]
  },
  {
   "cell_type": "code",
   "execution_count": null,
   "id": "f90f449c",
   "metadata": {},
   "outputs": [],
   "source": [
    "df = df.withColumn(\"articleID\", regexp_replace('articleID', '\\r', ''))\n",
    "df2 = df2.withColumn(\"articleID\", regexp_replace('articleID', '\\r', ''))"
   ]
  },
  {
   "cell_type": "code",
   "execution_count": null,
   "id": "f33ce494",
   "metadata": {},
   "outputs": [],
   "source": [
    "full_df = df.join(df2,on='articleID',how='inner')"
   ]
  },
  {
   "cell_type": "code",
   "execution_count": null,
   "id": "c2e0790f",
   "metadata": {},
   "outputs": [],
   "source": [
    "from pyspark.sql.types import DoubleType"
   ]
  },
  {
   "cell_type": "code",
   "execution_count": null,
   "id": "877f2ff7",
   "metadata": {},
   "outputs": [],
   "source": [
    "full_df = full_df.withColumn('time_passed', abs(full_df['pubDateInt'] - full_df['createDateInt']).cast(DoubleType()))\n",
    "full_df = full_df.drop('pubDateInt','createDateInt')"
   ]
  },
  {
   "cell_type": "code",
   "execution_count": null,
   "id": "fbb774e1",
   "metadata": {},
   "outputs": [],
   "source": [
    "from pyspark.ml.feature import StandardScaler\n",
    "from pyspark.ml.feature import VectorAssembler"
   ]
  },
  {
   "cell_type": "code",
   "execution_count": null,
   "id": "d73f87b6",
   "metadata": {},
   "outputs": [],
   "source": [
    "def standarize_num_column(df,columns=['time_passed']):\n",
    "    for column in columns:\n",
    "        df = VectorAssembler(\n",
    "          inputCols=[column], outputCol=f\"{column}_vector\"\n",
    "        ).transform(df)\n",
    "\n",
    "        df = StandardScaler(\n",
    "              inputCol=f\"{column}_vector\", outputCol=f\"scaled_{column}\",\n",
    "              withStd=True, withMean=False\n",
    "            ).fit(df).transform(df)\n",
    "        df = df.drop(f\"{column}_vector\",column)\n",
    "    return df"
   ]
  },
  {
   "cell_type": "code",
   "execution_count": null,
   "id": "70b5d344",
   "metadata": {},
   "outputs": [],
   "source": [
    "full_df = standarize_num_column(full_df,['time_passed','replyCount'])"
   ]
  },
  {
   "cell_type": "code",
   "execution_count": null,
   "id": "fccf2250",
   "metadata": {},
   "outputs": [],
   "source": [
    "full_df.select('scaled_time_passed').distinct().show()"
   ]
  },
  {
   "cell_type": "code",
   "execution_count": null,
   "id": "eebcf3c9",
   "metadata": {},
   "outputs": [],
   "source": [
    "from pyspark.ml.feature import VectorAssembler\n",
    "\n",
    "numericCols = ['feature_abstract', 'feature_commentBody', 'scaled_time_passed','scaled_replyCount']\n",
    "assembler = VectorAssembler(inputCols=numericCols, outputCol=\"features\")\n",
    "full_df = assembler.transform(full_df).drop(*numericCols)"
   ]
  },
  {
   "cell_type": "code",
   "execution_count": null,
   "id": "194ce676",
   "metadata": {},
   "outputs": [],
   "source": [
    "full_df = full_df"
   ]
  },
  {
   "cell_type": "code",
   "execution_count": null,
   "id": "facc5081",
   "metadata": {},
   "outputs": [],
   "source": [
    "from pyspark.ml.feature import Bucketizer\n",
    "bucketizer = Bucketizer(splits=[ 0, 6, 12, 18, float('Inf') ],inputCol=\"recommendations\", outputCol=\"buckets\")\n",
    "full_df = bucketizer.setHandleInvalid(\"keep\").transform(full_df)"
   ]
  },
  {
   "cell_type": "code",
   "execution_count": null,
   "id": "05e2ac1b",
   "metadata": {},
   "outputs": [],
   "source": [
    "full_df.printSchema()"
   ]
  },
  {
   "cell_type": "code",
   "execution_count": null,
   "id": "96364aff",
   "metadata": {},
   "outputs": [],
   "source": [
    "#### TODO ####\n",
    "\n",
    "# from pyspark.mllib.linalg.distributed import RowMatrix\n",
    "# from pyspark.mllib.linalg import Vectors, VectorUDT\n",
    "# from pyspark.sql.functions import udf, array\n",
    "\n",
    "# mat = RowMatrix(full_df.select('features'))\n",
    "# pc = mat.computePrincipalComponents(10)\n",
    "# projected = mat.multiply(pc)"
   ]
  },
  {
   "cell_type": "code",
   "execution_count": null,
   "id": "92eb90cf",
   "metadata": {},
   "outputs": [],
   "source": [
    "from pyspark.ml.feature import PCA\n",
    "\n",
    "pca = PCA(k=30, inputCol=\"features\")\n",
    "pca.setOutputCol(\"pca_features\")\n",
    "df = pca.fit(full_df).transform(full_df)\n",
    "df = df.drop('features').withColumn('features',col('pca_features'))\n",
    "df.printSchema()"
   ]
  },
  {
   "cell_type": "code",
   "execution_count": null,
   "id": "c0f83cd8",
   "metadata": {},
   "outputs": [],
   "source": [
    "from pyspark.ml import Pipeline\n",
    "from pyspark.ml.classification import RandomForestClassifier\n",
    "from pyspark.ml.feature import IndexToString, StringIndexer, VectorIndexer\n",
    "from pyspark.ml.evaluation import MulticlassClassificationEvaluator\n",
    "\n",
    "# Load and parse the data file, converting it to a DataFrame.\n",
    "data = df\n",
    "\n",
    "# Index labels, adding metadata to the label column.\n",
    "# Fit on whole dataset to include all labels in index.\n",
    "labelIndexer = StringIndexer(inputCol=\"buckets\", outputCol=\"indexedLabel\").fit(data)\n",
    "\n",
    "# Automatically identify categorical features, and index them.\n",
    "# Set maxCategories so features with > 4 distinct values are treated as continuous.\n",
    "featureIndexer =\\\n",
    "    VectorIndexer(inputCol=\"features\", outputCol=\"indexedFeatures\").fit(data)\n",
    "\n",
    "# Split the data into training and test sets (30% held out for testing)\n",
    "(trainingData, testData) = data.randomSplit([0.7, 0.3])\n",
    "\n",
    "# Train a RandomForest model.\n",
    "rf = RandomForestClassifier(labelCol=\"buckets\", featuresCol=\"indexedFeatures\")\n",
    "\n",
    "# Convert indexed labels back to original labels.\n",
    "labelConverter = IndexToString(inputCol=\"prediction\", outputCol=\"predictedLabel\",\n",
    "                               labels=labelIndexer.labels)\n",
    "\n",
    "# Chain indexers and forest in a Pipeline\n",
    "pipeline = Pipeline(stages=[labelIndexer, featureIndexer, rf, labelConverter])\n",
    "\n",
    "# Train model.  This also runs the indexers.\n",
    "model = pipeline.fit(trainingData)\n",
    "\n",
    "# Make predictions.\n",
    "predictions = model.transform(testData)\n",
    "\n",
    "# Select example rows to display.\n",
    "predictions.select(\"predictedLabel\", \"buckets\", \"features\").show(15)\n",
    "\n",
    "# Select (prediction, true label) and compute test error\n",
    "evaluator = MulticlassClassificationEvaluator(\n",
    "    labelCol=\"buckets\", predictionCol=\"prediction\", metricName=\"accuracy\")\n",
    "accuracy = evaluator.evaluate(predictions)\n",
    "print(\"Test Error = %g\" % (1.0 - accuracy))\n",
    "\n",
    "rfModel = model.stages[2]\n",
    "print(rfModel)  # summary only"
   ]
  }
 ],
 "metadata": {
  "kernelspec": {
   "display_name": "Python 3 (ipykernel)",
   "language": "python",
   "name": "python3"
  },
  "language_info": {
   "codemirror_mode": {
    "name": "ipython",
    "version": 3
   },
   "file_extension": ".py",
   "mimetype": "text/x-python",
   "name": "python",
   "nbconvert_exporter": "python",
   "pygments_lexer": "ipython3",
   "version": "3.9.13"
  }
 },
 "nbformat": 4,
 "nbformat_minor": 5
}
