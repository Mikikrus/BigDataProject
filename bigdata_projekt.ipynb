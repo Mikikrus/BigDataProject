{
 "cells": [
  {
   "cell_type": "markdown",
   "id": "7138e9c2",
   "metadata": {
    "pycharm": {
     "name": "#%% md\n"
    }
   },
   "source": [
    "### Project description"
   ]
  },
  {
   "cell_type": "markdown",
   "id": "de743277",
   "metadata": {
    "pycharm": {
     "name": "#%% md\n"
    }
   },
   "source": [
    "The project is about predicting the number of recommendations of a comment performed on New York Times Comments\n",
    "dataset that can be found under the link https://www.kaggle.com/datasets/aashita/nyt-comments.\n",
    "Main challanges of this project are:\n",
    "* handling large data volume\n",
    "* feature engineering\n",
    "* etc..\n",
    "To "
   ]
  },
  {
   "cell_type": "markdown",
   "id": "844bb535",
   "metadata": {
    "pycharm": {
     "name": "#%% md\n"
    }
   },
   "source": [
    "### Imports"
   ]
  },
  {
   "cell_type": "code",
   "execution_count": 1,
   "id": "ab31dec4",
   "metadata": {
    "pycharm": {
     "name": "#%%\n"
    }
   },
   "outputs": [],
   "source": [
    "import findspark\n",
    "findspark.init()\n",
    "from pyspark.sql import SparkSession\n",
    "from pyspark.sql.functions import *\n",
    "from pyspark.sql.types import DateType\n",
    "import pandas as pd"
   ]
  },
  {
   "cell_type": "code",
   "execution_count": 2,
   "id": "3c4e1bf4",
   "metadata": {
    "pycharm": {
     "name": "#%%\n"
    }
   },
   "outputs": [
    {
     "name": "stderr",
     "output_type": "stream",
     "text": [
      "22/06/25 16:09:20 WARN NativeCodeLoader: Unable to load native-hadoop library for your platform... using builtin-java classes where applicable\n",
      "Using Spark's default log4j profile: org/apache/spark/log4j-defaults.properties\n",
      "Setting default log level to \"WARN\".\n",
      "To adjust logging level use sc.setLogLevel(newLevel). For SparkR, use setLogLevel(newLevel).\n"
     ]
    }
   ],
   "source": [
    "from pyspark import SparkContext, SparkConf\n",
    "conf = SparkConf().setMaster(\"local[8]\").setAppName(\"big_data\")\n",
    "sc = SparkContext.getOrCreate(conf=conf)"
   ]
  },
  {
   "cell_type": "code",
   "execution_count": 3,
   "id": "c177d47c",
   "metadata": {
    "pycharm": {
     "name": "#%%\n"
    }
   },
   "outputs": [],
   "source": [
    "spark = SparkSession.builder.getOrCreate()"
   ]
  },
  {
   "cell_type": "markdown",
   "id": "18505333",
   "metadata": {
    "pycharm": {
     "name": "#%% md\n"
    }
   },
   "source": [
    "### Reading data"
   ]
  },
  {
   "cell_type": "code",
   "execution_count": 19,
   "id": "3881ec7b",
   "metadata": {
    "pycharm": {
     "name": "#%%\n"
    }
   },
   "outputs": [],
   "source": [
    "def read_spark_df(path):\n",
    "    return spark.read.option(\"multiline\",True).option('lineSep','\\n').option(\"header\", True).option(\"delimiter\", \",\").option(\"inferSchema\",True).option(\"escapeQuotes\", True).option(\"quote\", \"\\\"\").option(\"escape\", \"\\\"\").csv(path)"
   ]
  },
  {
   "cell_type": "code",
   "execution_count": 20,
   "id": "9244cfb7",
   "metadata": {},
   "outputs": [],
   "source": [
    "import pandas as pd"
   ]
  },
  {
   "cell_type": "code",
   "execution_count": 21,
   "id": "1a7f3125",
   "metadata": {},
   "outputs": [],
   "source": [
    "articles_pd_df = pd.read_csv('data/nyt-articles-2020.csv')"
   ]
  },
  {
   "cell_type": "code",
   "execution_count": null,
   "id": "842e08e0",
   "metadata": {},
   "outputs": [],
   "source": []
  },
  {
   "cell_type": "code",
   "execution_count": 22,
   "id": "84224d61",
   "metadata": {},
   "outputs": [
    {
     "data": {
      "text/html": [
       "<div>\n",
       "<style scoped>\n",
       "    .dataframe tbody tr th:only-of-type {\n",
       "        vertical-align: middle;\n",
       "    }\n",
       "\n",
       "    .dataframe tbody tr th {\n",
       "        vertical-align: top;\n",
       "    }\n",
       "\n",
       "    .dataframe thead th {\n",
       "        text-align: right;\n",
       "    }\n",
       "</style>\n",
       "<table border=\"1\" class=\"dataframe\">\n",
       "  <thead>\n",
       "    <tr style=\"text-align: right;\">\n",
       "      <th></th>\n",
       "      <th>newsdesk</th>\n",
       "      <th>section</th>\n",
       "      <th>subsection</th>\n",
       "      <th>material</th>\n",
       "      <th>headline</th>\n",
       "      <th>abstract</th>\n",
       "      <th>keywords</th>\n",
       "      <th>word_count</th>\n",
       "      <th>pub_date</th>\n",
       "      <th>n_comments</th>\n",
       "      <th>uniqueID</th>\n",
       "    </tr>\n",
       "  </thead>\n",
       "  <tbody>\n",
       "    <tr>\n",
       "      <th>0</th>\n",
       "      <td>Editorial</td>\n",
       "      <td>Opinion</td>\n",
       "      <td>NaN</td>\n",
       "      <td>Editorial</td>\n",
       "      <td>Protect Veterans From Fraud</td>\n",
       "      <td>Congress could do much more to protect America...</td>\n",
       "      <td>['Veterans', 'For-Profit Schools', 'Financial ...</td>\n",
       "      <td>680</td>\n",
       "      <td>2020-01-01 00:18:54+00:00</td>\n",
       "      <td>186</td>\n",
       "      <td>nyt://article/69a7090b-9f36-569e-b5ab-b0ba5bb3...</td>\n",
       "    </tr>\n",
       "    <tr>\n",
       "      <th>1</th>\n",
       "      <td>Games</td>\n",
       "      <td>Crosswords &amp; Games</td>\n",
       "      <td>NaN</td>\n",
       "      <td>News</td>\n",
       "      <td>‘It’s Green and Slimy’</td>\n",
       "      <td>Christina Iverson and Jeff Chen ring in the Ne...</td>\n",
       "      <td>['Crossword Puzzles']</td>\n",
       "      <td>931</td>\n",
       "      <td>2020-01-01 03:00:10+00:00</td>\n",
       "      <td>257</td>\n",
       "      <td>nyt://article/9edddb54-0aa3-5835-a833-d311a76f...</td>\n",
       "    </tr>\n",
       "    <tr>\n",
       "      <th>2</th>\n",
       "      <td>Science</td>\n",
       "      <td>Science</td>\n",
       "      <td>NaN</td>\n",
       "      <td>News</td>\n",
       "      <td>Meteor Showers in 2020 That Will Light Up Nigh...</td>\n",
       "      <td>All year long, Earth passes through streams of...</td>\n",
       "      <td>['Meteors and Meteorites', 'Space and Astronom...</td>\n",
       "      <td>1057</td>\n",
       "      <td>2020-01-01 05:00:08+00:00</td>\n",
       "      <td>6</td>\n",
       "      <td>nyt://article/04bc90f0-b20b-511c-b5bb-3ce13194...</td>\n",
       "    </tr>\n",
       "    <tr>\n",
       "      <th>3</th>\n",
       "      <td>Science</td>\n",
       "      <td>Science</td>\n",
       "      <td>NaN</td>\n",
       "      <td>Interactive Feature</td>\n",
       "      <td>Sync your calendar with the solar system</td>\n",
       "      <td>Never miss an eclipse, a meteor shower, a rock...</td>\n",
       "      <td>['Space and Astronomy', 'Moon', 'Eclipses', 'S...</td>\n",
       "      <td>0</td>\n",
       "      <td>2020-01-01 05:00:12+00:00</td>\n",
       "      <td>2</td>\n",
       "      <td>nyt://interactive/5b58d876-9351-50af-9b41-a312...</td>\n",
       "    </tr>\n",
       "    <tr>\n",
       "      <th>4</th>\n",
       "      <td>Science</td>\n",
       "      <td>Science</td>\n",
       "      <td>NaN</td>\n",
       "      <td>News</td>\n",
       "      <td>Rocket Launches, Trips to Mars and More 2020 S...</td>\n",
       "      <td>A year full of highs and lows in space just en...</td>\n",
       "      <td>['Space and Astronomy', 'Private Spaceflight',...</td>\n",
       "      <td>1156</td>\n",
       "      <td>2020-01-01 05:02:38+00:00</td>\n",
       "      <td>25</td>\n",
       "      <td>nyt://article/bd8647b3-8ec6-50aa-95cf-2b81ed12...</td>\n",
       "    </tr>\n",
       "    <tr>\n",
       "      <th>...</th>\n",
       "      <td>...</td>\n",
       "      <td>...</td>\n",
       "      <td>...</td>\n",
       "      <td>...</td>\n",
       "      <td>...</td>\n",
       "      <td>...</td>\n",
       "      <td>...</td>\n",
       "      <td>...</td>\n",
       "      <td>...</td>\n",
       "      <td>...</td>\n",
       "      <td>...</td>\n",
       "    </tr>\n",
       "    <tr>\n",
       "      <th>16782</th>\n",
       "      <td>Editorial</td>\n",
       "      <td>Opinion</td>\n",
       "      <td>NaN</td>\n",
       "      <td>Op-Ed</td>\n",
       "      <td>What It Takes to Heal From Covid-19</td>\n",
       "      <td>Survivors can get better, but they need help.</td>\n",
       "      <td>['Chronic Condition (Health)', 'Coronavirus (2...</td>\n",
       "      <td>1002</td>\n",
       "      <td>2020-12-31 15:27:47+00:00</td>\n",
       "      <td>166</td>\n",
       "      <td>nyt://article/e8adbb75-a8b3-5a8c-886b-b9c1195f...</td>\n",
       "    </tr>\n",
       "    <tr>\n",
       "      <th>16783</th>\n",
       "      <td>Sports</td>\n",
       "      <td>Sports</td>\n",
       "      <td>Baseball</td>\n",
       "      <td>News</td>\n",
       "      <td>Padres Jolt M.L.B. With Bold Moves to Set Up W...</td>\n",
       "      <td>While many teams continued to assess the finan...</td>\n",
       "      <td>['San Diego Padres', 'Major League Baseball', ...</td>\n",
       "      <td>1100</td>\n",
       "      <td>2020-12-31 15:47:44+00:00</td>\n",
       "      <td>42</td>\n",
       "      <td>nyt://article/1f11417d-2c57-51b9-b75d-8f67f0a9...</td>\n",
       "    </tr>\n",
       "    <tr>\n",
       "      <th>16784</th>\n",
       "      <td>Business</td>\n",
       "      <td>Business Day</td>\n",
       "      <td>NaN</td>\n",
       "      <td>News</td>\n",
       "      <td>Their Finances Ravaged, Customers Fear Banks W...</td>\n",
       "      <td>Banks have the power to decide whether to let ...</td>\n",
       "      <td>['Banking and Financial Institutions', 'Corona...</td>\n",
       "      <td>1429</td>\n",
       "      <td>2020-12-31 16:21:40+00:00</td>\n",
       "      <td>556</td>\n",
       "      <td>nyt://article/c4b9edab-bdde-5d81-b496-06fedb52...</td>\n",
       "    </tr>\n",
       "    <tr>\n",
       "      <th>16785</th>\n",
       "      <td>Dining</td>\n",
       "      <td>Food</td>\n",
       "      <td>Wine, Beer &amp; Cocktails</td>\n",
       "      <td>News</td>\n",
       "      <td>Should Wine Be Among Your Health Resolutions?</td>\n",
       "      <td>The new category of ‘clean wines’ is an effort...</td>\n",
       "      <td>['Wines', 'Grapes', 'Diet and Nutrition', 'Dia...</td>\n",
       "      <td>1307</td>\n",
       "      <td>2020-12-31 17:28:11+00:00</td>\n",
       "      <td>277</td>\n",
       "      <td>nyt://article/efcaf652-ffad-5b4e-9f17-4fd9aff5...</td>\n",
       "    </tr>\n",
       "    <tr>\n",
       "      <th>16786</th>\n",
       "      <td>Business</td>\n",
       "      <td>Technology</td>\n",
       "      <td>NaN</td>\n",
       "      <td>News</td>\n",
       "      <td>Microsoft Says Russian Hackers Viewed Some of ...</td>\n",
       "      <td>The hackers gained more access than the compan...</td>\n",
       "      <td>['Microsoft Corp', 'US Federal Government Data...</td>\n",
       "      <td>340</td>\n",
       "      <td>2020-12-31 18:02:02+00:00</td>\n",
       "      <td>137</td>\n",
       "      <td>nyt://article/12048b2b-62e3-5bed-8c77-483a4299...</td>\n",
       "    </tr>\n",
       "  </tbody>\n",
       "</table>\n",
       "<p>16787 rows × 11 columns</p>\n",
       "</div>"
      ],
      "text/plain": [
       "        newsdesk             section              subsection  \\\n",
       "0      Editorial             Opinion                     NaN   \n",
       "1          Games  Crosswords & Games                     NaN   \n",
       "2        Science             Science                     NaN   \n",
       "3        Science             Science                     NaN   \n",
       "4        Science             Science                     NaN   \n",
       "...          ...                 ...                     ...   \n",
       "16782  Editorial             Opinion                     NaN   \n",
       "16783     Sports              Sports                Baseball   \n",
       "16784   Business        Business Day                     NaN   \n",
       "16785     Dining                Food  Wine, Beer & Cocktails   \n",
       "16786   Business          Technology                     NaN   \n",
       "\n",
       "                  material                                           headline  \\\n",
       "0                Editorial                        Protect Veterans From Fraud   \n",
       "1                     News                             ‘It’s Green and Slimy’   \n",
       "2                     News  Meteor Showers in 2020 That Will Light Up Nigh...   \n",
       "3      Interactive Feature           Sync your calendar with the solar system   \n",
       "4                     News  Rocket Launches, Trips to Mars and More 2020 S...   \n",
       "...                    ...                                                ...   \n",
       "16782                Op-Ed                What It Takes to Heal From Covid-19   \n",
       "16783                 News  Padres Jolt M.L.B. With Bold Moves to Set Up W...   \n",
       "16784                 News  Their Finances Ravaged, Customers Fear Banks W...   \n",
       "16785                 News      Should Wine Be Among Your Health Resolutions?   \n",
       "16786                 News  Microsoft Says Russian Hackers Viewed Some of ...   \n",
       "\n",
       "                                                abstract  \\\n",
       "0      Congress could do much more to protect America...   \n",
       "1      Christina Iverson and Jeff Chen ring in the Ne...   \n",
       "2      All year long, Earth passes through streams of...   \n",
       "3      Never miss an eclipse, a meteor shower, a rock...   \n",
       "4      A year full of highs and lows in space just en...   \n",
       "...                                                  ...   \n",
       "16782      Survivors can get better, but they need help.   \n",
       "16783  While many teams continued to assess the finan...   \n",
       "16784  Banks have the power to decide whether to let ...   \n",
       "16785  The new category of ‘clean wines’ is an effort...   \n",
       "16786  The hackers gained more access than the compan...   \n",
       "\n",
       "                                                keywords  word_count  \\\n",
       "0      ['Veterans', 'For-Profit Schools', 'Financial ...         680   \n",
       "1                                  ['Crossword Puzzles']         931   \n",
       "2      ['Meteors and Meteorites', 'Space and Astronom...        1057   \n",
       "3      ['Space and Astronomy', 'Moon', 'Eclipses', 'S...           0   \n",
       "4      ['Space and Astronomy', 'Private Spaceflight',...        1156   \n",
       "...                                                  ...         ...   \n",
       "16782  ['Chronic Condition (Health)', 'Coronavirus (2...        1002   \n",
       "16783  ['San Diego Padres', 'Major League Baseball', ...        1100   \n",
       "16784  ['Banking and Financial Institutions', 'Corona...        1429   \n",
       "16785  ['Wines', 'Grapes', 'Diet and Nutrition', 'Dia...        1307   \n",
       "16786  ['Microsoft Corp', 'US Federal Government Data...         340   \n",
       "\n",
       "                        pub_date  n_comments  \\\n",
       "0      2020-01-01 00:18:54+00:00         186   \n",
       "1      2020-01-01 03:00:10+00:00         257   \n",
       "2      2020-01-01 05:00:08+00:00           6   \n",
       "3      2020-01-01 05:00:12+00:00           2   \n",
       "4      2020-01-01 05:02:38+00:00          25   \n",
       "...                          ...         ...   \n",
       "16782  2020-12-31 15:27:47+00:00         166   \n",
       "16783  2020-12-31 15:47:44+00:00          42   \n",
       "16784  2020-12-31 16:21:40+00:00         556   \n",
       "16785  2020-12-31 17:28:11+00:00         277   \n",
       "16786  2020-12-31 18:02:02+00:00         137   \n",
       "\n",
       "                                                uniqueID  \n",
       "0      nyt://article/69a7090b-9f36-569e-b5ab-b0ba5bb3...  \n",
       "1      nyt://article/9edddb54-0aa3-5835-a833-d311a76f...  \n",
       "2      nyt://article/04bc90f0-b20b-511c-b5bb-3ce13194...  \n",
       "3      nyt://interactive/5b58d876-9351-50af-9b41-a312...  \n",
       "4      nyt://article/bd8647b3-8ec6-50aa-95cf-2b81ed12...  \n",
       "...                                                  ...  \n",
       "16782  nyt://article/e8adbb75-a8b3-5a8c-886b-b9c1195f...  \n",
       "16783  nyt://article/1f11417d-2c57-51b9-b75d-8f67f0a9...  \n",
       "16784  nyt://article/c4b9edab-bdde-5d81-b496-06fedb52...  \n",
       "16785  nyt://article/efcaf652-ffad-5b4e-9f17-4fd9aff5...  \n",
       "16786  nyt://article/12048b2b-62e3-5bed-8c77-483a4299...  \n",
       "\n",
       "[16787 rows x 11 columns]"
      ]
     },
     "execution_count": 22,
     "metadata": {},
     "output_type": "execute_result"
    }
   ],
   "source": [
    "articles_pd_df"
   ]
  },
  {
   "cell_type": "code",
   "execution_count": 23,
   "id": "e3f9c49e",
   "metadata": {},
   "outputs": [],
   "source": [
    "import numpy as np\n",
    "import json"
   ]
  },
  {
   "cell_type": "code",
   "execution_count": 24,
   "id": "c8c30c78",
   "metadata": {},
   "outputs": [],
   "source": [
    "def remove_semicolons(x):\n",
    "    if type(x) != float:\n",
    "#         print(x)\n",
    "        x = literal_eval(x)\n",
    "        for i in range(len(x)):\n",
    "            x[i] = x[i].replace(\",\",\"\")\n",
    "        return x\n",
    "    else:\n",
    "        return None"
   ]
  },
  {
   "cell_type": "code",
   "execution_count": 25,
   "id": "98d964da",
   "metadata": {},
   "outputs": [],
   "source": [
    "from ast import literal_eval"
   ]
  },
  {
   "cell_type": "code",
   "execution_count": 26,
   "id": "d593c00d",
   "metadata": {},
   "outputs": [],
   "source": [
    "articles_pd_df['keywords'] = articles_pd_df['keywords'].apply(lambda x: remove_semicolons(x))"
   ]
  },
  {
   "cell_type": "code",
   "execution_count": 27,
   "id": "21fbd7b8",
   "metadata": {},
   "outputs": [],
   "source": [
    "articles_pd_df['headline'] = articles_pd_df['headline'].str.replace(\",\",'')\n",
    "articles_pd_df['abstract'] = articles_pd_df['abstract'].str.replace(\",\",'')\n",
    "articles_pd_df['subsection'] = articles_pd_df['subsection'].str.replace(\",\",'')\n",
    "articles_pd_df['section'] = articles_pd_df['section'].str.replace(\",\",'') \n",
    "articles_pd_df['newsdesk'] = articles_pd_df['newsdesk'].str.replace(\",\",'') "
   ]
  },
  {
   "cell_type": "code",
   "execution_count": 28,
   "id": "a9e74b7d",
   "metadata": {},
   "outputs": [
    {
     "data": {
      "text/html": [
       "<div>\n",
       "<style scoped>\n",
       "    .dataframe tbody tr th:only-of-type {\n",
       "        vertical-align: middle;\n",
       "    }\n",
       "\n",
       "    .dataframe tbody tr th {\n",
       "        vertical-align: top;\n",
       "    }\n",
       "\n",
       "    .dataframe thead th {\n",
       "        text-align: right;\n",
       "    }\n",
       "</style>\n",
       "<table border=\"1\" class=\"dataframe\">\n",
       "  <thead>\n",
       "    <tr style=\"text-align: right;\">\n",
       "      <th></th>\n",
       "      <th>newsdesk</th>\n",
       "      <th>section</th>\n",
       "      <th>subsection</th>\n",
       "      <th>material</th>\n",
       "      <th>headline</th>\n",
       "      <th>abstract</th>\n",
       "      <th>keywords</th>\n",
       "      <th>word_count</th>\n",
       "      <th>pub_date</th>\n",
       "      <th>n_comments</th>\n",
       "      <th>uniqueID</th>\n",
       "    </tr>\n",
       "  </thead>\n",
       "  <tbody>\n",
       "    <tr>\n",
       "      <th>0</th>\n",
       "      <td>Editorial</td>\n",
       "      <td>Opinion</td>\n",
       "      <td>NaN</td>\n",
       "      <td>Editorial</td>\n",
       "      <td>Protect Veterans From Fraud</td>\n",
       "      <td>Congress could do much more to protect America...</td>\n",
       "      <td>[Veterans, For-Profit Schools, Financial Aid (...</td>\n",
       "      <td>680</td>\n",
       "      <td>2020-01-01 00:18:54+00:00</td>\n",
       "      <td>186</td>\n",
       "      <td>nyt://article/69a7090b-9f36-569e-b5ab-b0ba5bb3...</td>\n",
       "    </tr>\n",
       "    <tr>\n",
       "      <th>1</th>\n",
       "      <td>Games</td>\n",
       "      <td>Crosswords &amp; Games</td>\n",
       "      <td>NaN</td>\n",
       "      <td>News</td>\n",
       "      <td>‘It’s Green and Slimy’</td>\n",
       "      <td>Christina Iverson and Jeff Chen ring in the Ne...</td>\n",
       "      <td>[Crossword Puzzles]</td>\n",
       "      <td>931</td>\n",
       "      <td>2020-01-01 03:00:10+00:00</td>\n",
       "      <td>257</td>\n",
       "      <td>nyt://article/9edddb54-0aa3-5835-a833-d311a76f...</td>\n",
       "    </tr>\n",
       "    <tr>\n",
       "      <th>2</th>\n",
       "      <td>Science</td>\n",
       "      <td>Science</td>\n",
       "      <td>NaN</td>\n",
       "      <td>News</td>\n",
       "      <td>Meteor Showers in 2020 That Will Light Up Nigh...</td>\n",
       "      <td>All year long Earth passes through streams of ...</td>\n",
       "      <td>[Meteors and Meteorites, Space and Astronomy, ...</td>\n",
       "      <td>1057</td>\n",
       "      <td>2020-01-01 05:00:08+00:00</td>\n",
       "      <td>6</td>\n",
       "      <td>nyt://article/04bc90f0-b20b-511c-b5bb-3ce13194...</td>\n",
       "    </tr>\n",
       "    <tr>\n",
       "      <th>3</th>\n",
       "      <td>Science</td>\n",
       "      <td>Science</td>\n",
       "      <td>NaN</td>\n",
       "      <td>Interactive Feature</td>\n",
       "      <td>Sync your calendar with the solar system</td>\n",
       "      <td>Never miss an eclipse a meteor shower a rocket...</td>\n",
       "      <td>[Space and Astronomy, Moon, Eclipses, Seasons ...</td>\n",
       "      <td>0</td>\n",
       "      <td>2020-01-01 05:00:12+00:00</td>\n",
       "      <td>2</td>\n",
       "      <td>nyt://interactive/5b58d876-9351-50af-9b41-a312...</td>\n",
       "    </tr>\n",
       "    <tr>\n",
       "      <th>4</th>\n",
       "      <td>Science</td>\n",
       "      <td>Science</td>\n",
       "      <td>NaN</td>\n",
       "      <td>News</td>\n",
       "      <td>Rocket Launches Trips to Mars and More 2020 Sp...</td>\n",
       "      <td>A year full of highs and lows in space just en...</td>\n",
       "      <td>[Space and Astronomy, Private Spaceflight, Roc...</td>\n",
       "      <td>1156</td>\n",
       "      <td>2020-01-01 05:02:38+00:00</td>\n",
       "      <td>25</td>\n",
       "      <td>nyt://article/bd8647b3-8ec6-50aa-95cf-2b81ed12...</td>\n",
       "    </tr>\n",
       "    <tr>\n",
       "      <th>...</th>\n",
       "      <td>...</td>\n",
       "      <td>...</td>\n",
       "      <td>...</td>\n",
       "      <td>...</td>\n",
       "      <td>...</td>\n",
       "      <td>...</td>\n",
       "      <td>...</td>\n",
       "      <td>...</td>\n",
       "      <td>...</td>\n",
       "      <td>...</td>\n",
       "      <td>...</td>\n",
       "    </tr>\n",
       "    <tr>\n",
       "      <th>16782</th>\n",
       "      <td>Editorial</td>\n",
       "      <td>Opinion</td>\n",
       "      <td>NaN</td>\n",
       "      <td>Op-Ed</td>\n",
       "      <td>What It Takes to Heal From Covid-19</td>\n",
       "      <td>Survivors can get better but they need help.</td>\n",
       "      <td>[Chronic Condition (Health), Coronavirus (2019...</td>\n",
       "      <td>1002</td>\n",
       "      <td>2020-12-31 15:27:47+00:00</td>\n",
       "      <td>166</td>\n",
       "      <td>nyt://article/e8adbb75-a8b3-5a8c-886b-b9c1195f...</td>\n",
       "    </tr>\n",
       "    <tr>\n",
       "      <th>16783</th>\n",
       "      <td>Sports</td>\n",
       "      <td>Sports</td>\n",
       "      <td>Baseball</td>\n",
       "      <td>News</td>\n",
       "      <td>Padres Jolt M.L.B. With Bold Moves to Set Up W...</td>\n",
       "      <td>While many teams continued to assess the finan...</td>\n",
       "      <td>[San Diego Padres, Major League Baseball, Free...</td>\n",
       "      <td>1100</td>\n",
       "      <td>2020-12-31 15:47:44+00:00</td>\n",
       "      <td>42</td>\n",
       "      <td>nyt://article/1f11417d-2c57-51b9-b75d-8f67f0a9...</td>\n",
       "    </tr>\n",
       "    <tr>\n",
       "      <th>16784</th>\n",
       "      <td>Business</td>\n",
       "      <td>Business Day</td>\n",
       "      <td>NaN</td>\n",
       "      <td>News</td>\n",
       "      <td>Their Finances Ravaged Customers Fear Banks Wi...</td>\n",
       "      <td>Banks have the power to decide whether to let ...</td>\n",
       "      <td>[Banking and Financial Institutions, Coronavir...</td>\n",
       "      <td>1429</td>\n",
       "      <td>2020-12-31 16:21:40+00:00</td>\n",
       "      <td>556</td>\n",
       "      <td>nyt://article/c4b9edab-bdde-5d81-b496-06fedb52...</td>\n",
       "    </tr>\n",
       "    <tr>\n",
       "      <th>16785</th>\n",
       "      <td>Dining</td>\n",
       "      <td>Food</td>\n",
       "      <td>Wine Beer &amp; Cocktails</td>\n",
       "      <td>News</td>\n",
       "      <td>Should Wine Be Among Your Health Resolutions?</td>\n",
       "      <td>The new category of ‘clean wines’ is an effort...</td>\n",
       "      <td>[Wines, Grapes, Diet and Nutrition, Diaz Camer...</td>\n",
       "      <td>1307</td>\n",
       "      <td>2020-12-31 17:28:11+00:00</td>\n",
       "      <td>277</td>\n",
       "      <td>nyt://article/efcaf652-ffad-5b4e-9f17-4fd9aff5...</td>\n",
       "    </tr>\n",
       "    <tr>\n",
       "      <th>16786</th>\n",
       "      <td>Business</td>\n",
       "      <td>Technology</td>\n",
       "      <td>NaN</td>\n",
       "      <td>News</td>\n",
       "      <td>Microsoft Says Russian Hackers Viewed Some of ...</td>\n",
       "      <td>The hackers gained more access than the compan...</td>\n",
       "      <td>[Microsoft Corp, US Federal Government Data Br...</td>\n",
       "      <td>340</td>\n",
       "      <td>2020-12-31 18:02:02+00:00</td>\n",
       "      <td>137</td>\n",
       "      <td>nyt://article/12048b2b-62e3-5bed-8c77-483a4299...</td>\n",
       "    </tr>\n",
       "  </tbody>\n",
       "</table>\n",
       "<p>16787 rows × 11 columns</p>\n",
       "</div>"
      ],
      "text/plain": [
       "        newsdesk             section             subsection  \\\n",
       "0      Editorial             Opinion                    NaN   \n",
       "1          Games  Crosswords & Games                    NaN   \n",
       "2        Science             Science                    NaN   \n",
       "3        Science             Science                    NaN   \n",
       "4        Science             Science                    NaN   \n",
       "...          ...                 ...                    ...   \n",
       "16782  Editorial             Opinion                    NaN   \n",
       "16783     Sports              Sports               Baseball   \n",
       "16784   Business        Business Day                    NaN   \n",
       "16785     Dining                Food  Wine Beer & Cocktails   \n",
       "16786   Business          Technology                    NaN   \n",
       "\n",
       "                  material                                           headline  \\\n",
       "0                Editorial                        Protect Veterans From Fraud   \n",
       "1                     News                             ‘It’s Green and Slimy’   \n",
       "2                     News  Meteor Showers in 2020 That Will Light Up Nigh...   \n",
       "3      Interactive Feature           Sync your calendar with the solar system   \n",
       "4                     News  Rocket Launches Trips to Mars and More 2020 Sp...   \n",
       "...                    ...                                                ...   \n",
       "16782                Op-Ed                What It Takes to Heal From Covid-19   \n",
       "16783                 News  Padres Jolt M.L.B. With Bold Moves to Set Up W...   \n",
       "16784                 News  Their Finances Ravaged Customers Fear Banks Wi...   \n",
       "16785                 News      Should Wine Be Among Your Health Resolutions?   \n",
       "16786                 News  Microsoft Says Russian Hackers Viewed Some of ...   \n",
       "\n",
       "                                                abstract  \\\n",
       "0      Congress could do much more to protect America...   \n",
       "1      Christina Iverson and Jeff Chen ring in the Ne...   \n",
       "2      All year long Earth passes through streams of ...   \n",
       "3      Never miss an eclipse a meteor shower a rocket...   \n",
       "4      A year full of highs and lows in space just en...   \n",
       "...                                                  ...   \n",
       "16782       Survivors can get better but they need help.   \n",
       "16783  While many teams continued to assess the finan...   \n",
       "16784  Banks have the power to decide whether to let ...   \n",
       "16785  The new category of ‘clean wines’ is an effort...   \n",
       "16786  The hackers gained more access than the compan...   \n",
       "\n",
       "                                                keywords  word_count  \\\n",
       "0      [Veterans, For-Profit Schools, Financial Aid (...         680   \n",
       "1                                    [Crossword Puzzles]         931   \n",
       "2      [Meteors and Meteorites, Space and Astronomy, ...        1057   \n",
       "3      [Space and Astronomy, Moon, Eclipses, Seasons ...           0   \n",
       "4      [Space and Astronomy, Private Spaceflight, Roc...        1156   \n",
       "...                                                  ...         ...   \n",
       "16782  [Chronic Condition (Health), Coronavirus (2019...        1002   \n",
       "16783  [San Diego Padres, Major League Baseball, Free...        1100   \n",
       "16784  [Banking and Financial Institutions, Coronavir...        1429   \n",
       "16785  [Wines, Grapes, Diet and Nutrition, Diaz Camer...        1307   \n",
       "16786  [Microsoft Corp, US Federal Government Data Br...         340   \n",
       "\n",
       "                        pub_date  n_comments  \\\n",
       "0      2020-01-01 00:18:54+00:00         186   \n",
       "1      2020-01-01 03:00:10+00:00         257   \n",
       "2      2020-01-01 05:00:08+00:00           6   \n",
       "3      2020-01-01 05:00:12+00:00           2   \n",
       "4      2020-01-01 05:02:38+00:00          25   \n",
       "...                          ...         ...   \n",
       "16782  2020-12-31 15:27:47+00:00         166   \n",
       "16783  2020-12-31 15:47:44+00:00          42   \n",
       "16784  2020-12-31 16:21:40+00:00         556   \n",
       "16785  2020-12-31 17:28:11+00:00         277   \n",
       "16786  2020-12-31 18:02:02+00:00         137   \n",
       "\n",
       "                                                uniqueID  \n",
       "0      nyt://article/69a7090b-9f36-569e-b5ab-b0ba5bb3...  \n",
       "1      nyt://article/9edddb54-0aa3-5835-a833-d311a76f...  \n",
       "2      nyt://article/04bc90f0-b20b-511c-b5bb-3ce13194...  \n",
       "3      nyt://interactive/5b58d876-9351-50af-9b41-a312...  \n",
       "4      nyt://article/bd8647b3-8ec6-50aa-95cf-2b81ed12...  \n",
       "...                                                  ...  \n",
       "16782  nyt://article/e8adbb75-a8b3-5a8c-886b-b9c1195f...  \n",
       "16783  nyt://article/1f11417d-2c57-51b9-b75d-8f67f0a9...  \n",
       "16784  nyt://article/c4b9edab-bdde-5d81-b496-06fedb52...  \n",
       "16785  nyt://article/efcaf652-ffad-5b4e-9f17-4fd9aff5...  \n",
       "16786  nyt://article/12048b2b-62e3-5bed-8c77-483a4299...  \n",
       "\n",
       "[16787 rows x 11 columns]"
      ]
     },
     "execution_count": 28,
     "metadata": {},
     "output_type": "execute_result"
    }
   ],
   "source": [
    "articles_pd_df"
   ]
  },
  {
   "cell_type": "code",
   "execution_count": 46,
   "id": "c6ef6f29",
   "metadata": {
    "pycharm": {
     "name": "#%%\n"
    }
   },
   "outputs": [
    {
     "name": "stderr",
     "output_type": "stream",
     "text": [
      "                                                                                \r"
     ]
    }
   ],
   "source": [
    "articles_df = read_spark_df('data/nyt-articles-2020.csv')\n",
    "\n",
    "\n",
    "comments_df = read_spark_df('data/nyt-comments-2020.csv')"
   ]
  },
  {
   "cell_type": "code",
   "execution_count": 47,
   "id": "4f2d056e",
   "metadata": {},
   "outputs": [],
   "source": [
    "comments_df = comments_df.limit(1000)"
   ]
  },
  {
   "cell_type": "code",
   "execution_count": 48,
   "id": "62879223",
   "metadata": {},
   "outputs": [],
   "source": [
    "df = comments_df.withColumn(\"updateDate\", comments_df['updateDate'].cast(DateType()))"
   ]
  },
  {
   "cell_type": "code",
   "execution_count": 49,
   "id": "af46e756",
   "metadata": {
    "pycharm": {
     "name": "#%%\n"
    }
   },
   "outputs": [
    {
     "name": "stdout",
     "output_type": "stream",
     "text": [
      "root\n",
      " |-- commentID: integer (nullable = true)\n",
      " |-- status: string (nullable = true)\n",
      " |-- commentSequence: integer (nullable = true)\n",
      " |-- userID: integer (nullable = true)\n",
      " |-- userDisplayName: string (nullable = true)\n",
      " |-- userLocation: string (nullable = true)\n",
      " |-- userTitle: string (nullable = true)\n",
      " |-- commentBody: string (nullable = true)\n",
      " |-- createDate: string (nullable = true)\n",
      " |-- updateDate: string (nullable = true)\n",
      " |-- approveDate: string (nullable = true)\n",
      " |-- recommendations: integer (nullable = true)\n",
      " |-- replyCount: integer (nullable = true)\n",
      " |-- editorsSelection: boolean (nullable = true)\n",
      " |-- parentID: double (nullable = true)\n",
      " |-- parentUserDisplayName: string (nullable = true)\n",
      " |-- depth: integer (nullable = true)\n",
      " |-- commentType: string (nullable = true)\n",
      " |-- trusted: integer (nullable = true)\n",
      " |-- recommendedFlag: integer (nullable = true)\n",
      " |-- permID: integer (nullable = true)\n",
      " |-- isAnonymous: boolean (nullable = true)\n",
      " |-- articleID: string (nullable = true)\n",
      "\n"
     ]
    }
   ],
   "source": [
    "comments_df.printSchema()"
   ]
  },
  {
   "cell_type": "markdown",
   "id": "5458492c",
   "metadata": {
    "pycharm": {
     "name": "#%% md\n"
    }
   },
   "source": [
    "We can observe that although we used inferSchema some of the columns should be stored as a different data type. Let's fix it."
   ]
  },
  {
   "cell_type": "code",
   "execution_count": 50,
   "id": "c07c2919",
   "metadata": {
    "pycharm": {
     "name": "#%%\n"
    }
   },
   "outputs": [],
   "source": [
    "comments_df=comments_df.withColumn('recommendations',comments_df['recommendations'].cast(\"float\"))\\\n",
    "                        .withColumn(\"createDate\", comments_df['createDate'].cast(DateType()))\\\n",
    "                        .withColumn(\"updateDate\", comments_df['updateDate'].cast(DateType()))\\\n",
    "                        .withColumn(\"approveDate\", comments_df['approveDate'].cast(DateType()))\\\n",
    "                        .withColumn('replyCount',comments_df['replyCount'].cast(\"int\"))\\\n",
    "                        .withColumn('depth',comments_df['depth'].cast(\"int\"))\\\n",
    "                        .withColumn('isAnonymous',comments_df['isAnonymous'].cast(\"int\"))\\\n",
    "                        .withColumn('editorsSelection',comments_df['editorsSelection'].cast(\"int\"))\n",
    "#actually some of the above columns are boolean but pyspark does not provide such datatype so we cast them to int"
   ]
  },
  {
   "cell_type": "code",
   "execution_count": 51,
   "id": "bdceb49a",
   "metadata": {},
   "outputs": [],
   "source": [
    "articles_df = articles_df.withColumn('word_count',articles_df['word_count'].cast(\"int\"))\\\n",
    "                         .withColumn(\"pub_date\", articles_df['pub_date'].cast(DateType()))\\\n",
    "                         .withColumn('n_comments',articles_df['n_comments'].cast(\"int\"))"
   ]
  },
  {
   "cell_type": "code",
   "execution_count": 52,
   "id": "0672ddd3",
   "metadata": {
    "pycharm": {
     "name": "#%%\n"
    }
   },
   "outputs": [
    {
     "name": "stdout",
     "output_type": "stream",
     "text": [
      "root\n",
      " |-- commentID: integer (nullable = true)\n",
      " |-- status: string (nullable = true)\n",
      " |-- commentSequence: integer (nullable = true)\n",
      " |-- userID: integer (nullable = true)\n",
      " |-- userDisplayName: string (nullable = true)\n",
      " |-- userLocation: string (nullable = true)\n",
      " |-- userTitle: string (nullable = true)\n",
      " |-- commentBody: string (nullable = true)\n",
      " |-- createDate: date (nullable = true)\n",
      " |-- updateDate: date (nullable = true)\n",
      " |-- approveDate: date (nullable = true)\n",
      " |-- recommendations: float (nullable = true)\n",
      " |-- replyCount: integer (nullable = true)\n",
      " |-- editorsSelection: integer (nullable = true)\n",
      " |-- parentID: double (nullable = true)\n",
      " |-- parentUserDisplayName: string (nullable = true)\n",
      " |-- depth: integer (nullable = true)\n",
      " |-- commentType: string (nullable = true)\n",
      " |-- trusted: integer (nullable = true)\n",
      " |-- recommendedFlag: integer (nullable = true)\n",
      " |-- permID: integer (nullable = true)\n",
      " |-- isAnonymous: integer (nullable = true)\n",
      " |-- articleID: string (nullable = true)\n",
      "\n"
     ]
    }
   ],
   "source": [
    "comments_df.printSchema()"
   ]
  },
  {
   "cell_type": "code",
   "execution_count": 53,
   "id": "04073825",
   "metadata": {},
   "outputs": [
    {
     "name": "stdout",
     "output_type": "stream",
     "text": [
      "root\n",
      " |-- newsdesk: string (nullable = true)\n",
      " |-- section: string (nullable = true)\n",
      " |-- subsection: string (nullable = true)\n",
      " |-- material: string (nullable = true)\n",
      " |-- headline: string (nullable = true)\n",
      " |-- abstract: string (nullable = true)\n",
      " |-- keywords: string (nullable = true)\n",
      " |-- word_count: integer (nullable = true)\n",
      " |-- pub_date: date (nullable = true)\n",
      " |-- n_comments: integer (nullable = true)\n",
      " |-- uniqueID\r",
      ": string (nullable = true)\n",
      "\n"
     ]
    }
   ],
   "source": [
    "articles_df.printSchema()"
   ]
  },
  {
   "cell_type": "markdown",
   "id": "aebd7a6f",
   "metadata": {
    "pycharm": {
     "name": "#%% md\n"
    }
   },
   "source": [
    "Let's take a look at our target variable"
   ]
  },
  {
   "cell_type": "code",
   "execution_count": 54,
   "id": "86a97d42",
   "metadata": {
    "pycharm": {
     "name": "#%%\n"
    }
   },
   "outputs": [
    {
     "name": "stdout",
     "output_type": "stream",
     "text": [
      "+-------+-----------------+\n",
      "|summary|  recommendations|\n",
      "+-------+-----------------+\n",
      "|  count|             1000|\n",
      "|   mean|           11.986|\n",
      "| stddev|27.61623545055446|\n",
      "|    min|              0.0|\n",
      "|    max|            402.0|\n",
      "+-------+-----------------+\n",
      "\n"
     ]
    }
   ],
   "source": [
    "comments_df.describe(['recommendations']).show()"
   ]
  },
  {
   "cell_type": "markdown",
   "id": "f052ebcc",
   "metadata": {
    "pycharm": {
     "name": "#%% md\n"
    }
   },
   "source": [
    "We can observe that data is contains outliers. We will get rid of them using quantiles."
   ]
  },
  {
   "cell_type": "code",
   "execution_count": 55,
   "id": "a13186e8",
   "metadata": {
    "pycharm": {
     "name": "#%%\n"
    }
   },
   "outputs": [],
   "source": [
    "upper_limit = comments_df.approxQuantile('recommendations', [ 0.9], 0.05)[0]"
   ]
  },
  {
   "cell_type": "code",
   "execution_count": 56,
   "id": "3155001e",
   "metadata": {
    "pycharm": {
     "name": "#%%\n"
    }
   },
   "outputs": [],
   "source": [
    "comments_df = comments_df.filter((col('recommendations')<upper_limit))"
   ]
  },
  {
   "cell_type": "code",
   "execution_count": 57,
   "id": "699dcac3",
   "metadata": {},
   "outputs": [
    {
     "name": "stdout",
     "output_type": "stream",
     "text": [
      "+-------+-----------------+\n",
      "|summary|  recommendations|\n",
      "+-------+-----------------+\n",
      "|  count|              852|\n",
      "|   mean|4.772300469483568|\n",
      "| stddev|5.022607677901019|\n",
      "|    min|              0.0|\n",
      "|    max|             20.0|\n",
      "+-------+-----------------+\n",
      "\n"
     ]
    }
   ],
   "source": [
    "comments_df.describe(['recommendations']).show()"
   ]
  },
  {
   "cell_type": "code",
   "execution_count": 58,
   "id": "522a13f7",
   "metadata": {},
   "outputs": [
    {
     "name": "stderr",
     "output_type": "stream",
     "text": [
      "                                                                                \r"
     ]
    },
    {
     "data": {
      "image/png": "[encoded data removed]",
      "text/plain": [
       "<Figure size 432x288 with 1 Axes>"
      ]
     },
     "metadata": {
      "needs_background": "light"
     },
     "output_type": "display_data"
    }
   ],
   "source": [
    "gre_histogram = comments_df.select('recommendations').rdd.flatMap(lambda x: x).histogram(11)\n",
    "\n",
    "# Loading the Computed Histogram into a Pandas Dataframe for plotting\n",
    "pd.DataFrame(\n",
    "    list(zip(*gre_histogram)), \n",
    "    columns=['bin', 'frequency']\n",
    ").set_index(\n",
    "    'bin'\n",
    ").plot(kind='bar');"
   ]
  },
  {
   "cell_type": "markdown",
   "id": "3331b602",
   "metadata": {},
   "source": [
    "Transformr text to vectors"
   ]
  },
  {
   "cell_type": "code",
   "execution_count": 59,
   "id": "ceb73322",
   "metadata": {},
   "outputs": [],
   "source": [
    "# from pyspark.mllib.feature import Word2Vec"
   ]
  },
  {
   "cell_type": "code",
   "execution_count": null,
   "id": "fd51356c",
   "metadata": {},
   "outputs": [],
   "source": []
  },
  {
   "cell_type": "code",
   "execution_count": 60,
   "id": "e9645696",
   "metadata": {},
   "outputs": [],
   "source": [
    "from pyspark.ml.feature import StopWordsRemover,Word2Vec\n",
    "from pyspark.sql.functions import monotonically_increasing_id, row_number\n",
    "from pyspark.sql.window import Window\n",
    "import pyspark.sql.functions as F"
   ]
  },
  {
   "cell_type": "code",
   "execution_count": 71,
   "id": "b7763206",
   "metadata": {},
   "outputs": [],
   "source": [
    "comments_df=comments_df.withColumn(\"createDateInt\", F.unix_timestamp(comments_df['createDate']))\n",
    "\n",
    "aritcles_data = articles_df.select(col(\"abstract\"),col(\"pub_date\"),\n",
    "                          col(\"keywords\"),\n",
    "                          col(\"uniqueID\\r\").alias('articleID'))\n",
    "aritcles_data = aritcles_data.withColumn(\"pubDateInt\", F.unix_timestamp(col('pub_date')))\n",
    "aritcles_data = aritcles_data.filter(~ col('abstract').isNull()) # TODO: nie wywalać tylko uzpełniać średnią wartośćią z wektorów\n",
    "# data = data.withColumn(\"articleID\",expr(\"substring(articleID, 1, length(articleID)-1)\"))\n",
    "# full_df = comments_df.join(data, on=[\"articleID\"])\n",
    "\n",
    "# full_df = full_df.withColumn('time_passed', abs(full_df['pubDateInt'] - full_df['createDateInt']))\n",
    "\n",
    "# a = comments_df.select('articleID').distinct().take(1)\n",
    "# b = data.select(col('articleID')).take(1)\n",
    "# print(a, b)"
   ]
  },
  {
   "cell_type": "code",
   "execution_count": 72,
   "id": "f208d220",
   "metadata": {},
   "outputs": [
    {
     "name": "stdout",
     "output_type": "stream",
     "text": [
      "+--------------+------------------+-----------+-------------------+--------------------+--------------------+--------------------+----------+----------+----------+--------------------+\n",
      "|      newsdesk|           section| subsection|           material|            headline|            abstract|            keywords|word_count|  pub_date|n_comments|           uniqueID\r",
      "|\n",
      "+--------------+------------------+-----------+-------------------+--------------------+--------------------+--------------------+----------+----------+----------+--------------------+\n",
      "|     Editorial|           Opinion|       null|          Editorial|Protect Veterans ...|Congress could do...|['Veterans', 'For...|       680|2020-01-01|       186|nyt://article/69a...|\n",
      "|         Games|Crosswords & Games|       null|               News|‘It’s Green and S...|Christina Iverson...|['Crossword Puzzl...|       931|2020-01-01|       257|nyt://article/9ed...|\n",
      "|       Science|           Science|       null|               News|Meteor Showers in...|All year long, Ea...|['Meteors and Met...|      1057|2020-01-01|         6|nyt://article/04b...|\n",
      "|       Science|           Science|       null|Interactive Feature|Sync your calenda...|Never miss an ecl...|['Space and Astro...|         0|2020-01-01|         2|nyt://interactive...|\n",
      "|       Science|           Science|       null|               News|Rocket Launches, ...|A year full of hi...|['Space and Astro...|      1156|2020-01-01|        25|nyt://article/bd8...|\n",
      "|       Foreign|             World|Middle East|               News|Pro-Iranian Prote...|Iran’s ability to...|['Iraq', 'Iran', ...|      1120|2020-01-01|       123|nyt://article/ac7...|\n",
      "|      Magazine|          Magazine|       null|               News|Judge John Hodgma...|If you brother-in...|['Comedy and Humor']|       153|2020-01-01|        22|nyt://article/dea...|\n",
      "|      Magazine|          Magazine|       null|               News|She Felt Fine, bu...|After the 67-year...|['Stroke', 'Brain...|      1395|2020-01-01|       134|nyt://article/dfd...|\n",
      "|      Magazine|          Magazine|       null|               News|These Armenian Fl...|Tangy and juicy, ...|['Cooking and Coo...|       754|2020-01-01|        21|nyt://article/622...|\n",
      "|       Culture|             Books|       null|             Review|‘Don’t Believe a ...|David Shariatmada...|[\"Don't Believe a...|       957|2020-01-01|        21|nyt://article/7d9...|\n",
      "|          Well|              Well|        Eat|               News|Eat Better, Feel ...|Intermittent fast...|['Weight', 'Fasti...|       440|2020-01-01|        58|nyt://article/da7...|\n",
      "|      Magazine|          Magazine|       null|               News|Can You Talk Your...|California is giv...|['California', 'P...|      9781|2020-01-01|       116|nyt://article/47b...|\n",
      "|  Arts&Leisure|              Arts|      Dance|               News|Couture Creations...|An exhibition at ...|['Dancing', 'Fash...|      1608|2020-01-01|         2|nyt://article/ea2...|\n",
      "|    RealEstate|       Real Estate|       null|               News|Bedminster, N.J.:...|Residents of the ...|['Real Estate and...|      1403|2020-01-01|        13|nyt://article/51c...|\n",
      "|SundayBusiness|      Business Day|       null|               News|The Work Diary of...|In an iCal era, t...|['Design', 'Winte...|      1957|2020-01-01|         5|nyt://article/3a4...|\n",
      "|    RealEstate|       Real Estate|       null|               News|$750,000 Homes in...|A brand-new cotta...|['Real Estate and...|       959|2020-01-01|        18|nyt://article/7fe...|\n",
      "|    RealEstate|       Real Estate|       null|               News|House Hunting in ...|In Galicia, where...|['Real Estate and...|      1385|2020-01-01|         6|nyt://article/310...|\n",
      "|  Arts&Leisure|           Theater|       null|               News|Simon Stone Faced...|After a family tr...|['Theater', 'Broo...|      1699|2020-01-01|         2|nyt://article/8f9...|\n",
      "|       Weekend|            Movies|       null|               News|Reading ‘Us’ Thro...|With its star, Lu...|['Movies', 'Peele...|       775|2020-01-01|         3|nyt://article/c42...|\n",
      "|        Styles|             Style|  Self-Care|               News|There Will Be Blo...|Some help — and c...|['Anxiety and Str...|      1416|2020-01-01|        26|nyt://article/41c...|\n",
      "+--------------+------------------+-----------+-------------------+--------------------+--------------------+--------------------+----------+----------+----------+--------------------+\n",
      "only showing top 20 rows\n",
      "\n"
     ]
    }
   ],
   "source": [
    "articles_df.show()"
   ]
  },
  {
   "cell_type": "code",
   "execution_count": 73,
   "id": "ec44f31a",
   "metadata": {
    "scrolled": true
   },
   "outputs": [
    {
     "name": "stdout",
     "output_type": "stream",
     "text": [
      "+--------------------+----------+--------------------+--------------------+----------+\n",
      "|            abstract|  pub_date|            keywords|           articleID|pubDateInt|\n",
      "+--------------------+----------+--------------------+--------------------+----------+\n",
      "|Congress could do...|2020-01-01|['Veterans', 'For...|nyt://article/69a...|1577833200|\n",
      "|Christina Iverson...|2020-01-01|['Crossword Puzzl...|nyt://article/9ed...|1577833200|\n",
      "|All year long, Ea...|2020-01-01|['Meteors and Met...|nyt://article/04b...|1577833200|\n",
      "|Never miss an ecl...|2020-01-01|['Space and Astro...|nyt://interactive...|1577833200|\n",
      "|A year full of hi...|2020-01-01|['Space and Astro...|nyt://article/bd8...|1577833200|\n",
      "|Iran’s ability to...|2020-01-01|['Iraq', 'Iran', ...|nyt://article/ac7...|1577833200|\n",
      "|If you brother-in...|2020-01-01|['Comedy and Humor']|nyt://article/dea...|1577833200|\n",
      "|After the 67-year...|2020-01-01|['Stroke', 'Brain...|nyt://article/dfd...|1577833200|\n",
      "|Tangy and juicy, ...|2020-01-01|['Cooking and Coo...|nyt://article/622...|1577833200|\n",
      "|David Shariatmada...|2020-01-01|[\"Don't Believe a...|nyt://article/7d9...|1577833200|\n",
      "|Intermittent fast...|2020-01-01|['Weight', 'Fasti...|nyt://article/da7...|1577833200|\n",
      "|California is giv...|2020-01-01|['California', 'P...|nyt://article/47b...|1577833200|\n",
      "|An exhibition at ...|2020-01-01|['Dancing', 'Fash...|nyt://article/ea2...|1577833200|\n",
      "|Residents of the ...|2020-01-01|['Real Estate and...|nyt://article/51c...|1577833200|\n",
      "|In an iCal era, t...|2020-01-01|['Design', 'Winte...|nyt://article/3a4...|1577833200|\n",
      "|A brand-new cotta...|2020-01-01|['Real Estate and...|nyt://article/7fe...|1577833200|\n",
      "|In Galicia, where...|2020-01-01|['Real Estate and...|nyt://article/310...|1577833200|\n",
      "|After a family tr...|2020-01-01|['Theater', 'Broo...|nyt://article/8f9...|1577833200|\n",
      "|With its star, Lu...|2020-01-01|['Movies', 'Peele...|nyt://article/c42...|1577833200|\n",
      "|Some help — and c...|2020-01-01|['Anxiety and Str...|nyt://article/41c...|1577833200|\n",
      "+--------------------+----------+--------------------+--------------------+----------+\n",
      "only showing top 20 rows\n",
      "\n"
     ]
    }
   ],
   "source": [
    "aritcles_data.show()"
   ]
  },
  {
   "cell_type": "code",
   "execution_count": 79,
   "id": "d70fe22b",
   "metadata": {},
   "outputs": [],
   "source": [
    "def get_vector(df,column='commentBody',leave_columns =[\"commentID\"]):\n",
    "    df = df.withColumn(column, trim(regexp_replace(column,'(@\\w+)|[^a-zA-Z\\s]', '')))\n",
    "    df = df.select(*leave_columns,split(col(column),\" \").alias(column))\n",
    "    remover = StopWordsRemover(inputCol=column, outputCol=\"filtered\")\n",
    "    filtered = remover.transform(df)\n",
    "    word2vec = Word2Vec(inputCol=\"filtered\", outputCol=\"feature_comment_body\")\n",
    "    model = word2vec.fit(filtered)\n",
    "    return model.transform(filtered)"
   ]
  },
  {
   "cell_type": "code",
   "execution_count": 75,
   "id": "34bfa5da",
   "metadata": {},
   "outputs": [
    {
     "name": "stdout",
     "output_type": "stream",
     "text": [
      "+--------+--------+--------+---------+----------+\n",
      "|abstract|pub_date|keywords|articleID|pubDateInt|\n",
      "+--------+--------+--------+---------+----------+\n",
      "+--------+--------+--------+---------+----------+\n",
      "\n"
     ]
    }
   ],
   "source": [
    "aritcles_data.filter(col('abstract').isNull()).show()"
   ]
  },
  {
   "cell_type": "code",
   "execution_count": 81,
   "id": "c0d695da",
   "metadata": {},
   "outputs": [],
   "source": [
    "comments_df_leave_columns = ['commentID','createDate','approveDate','recommendations','articleID','replyCount']"
   ]
  },
  {
   "cell_type": "code",
   "execution_count": 94,
   "id": "3979d251",
   "metadata": {},
   "outputs": [],
   "source": [
    "articles_columns = aritcles_data.columns\n",
    "articles_columns.pop(articles_columns.index('abstract'))\n",
    "articles_df_leave_columns = articles_columns"
   ]
  },
  {
   "cell_type": "code",
   "execution_count": 95,
   "id": "0e878216",
   "metadata": {},
   "outputs": [
    {
     "name": "stderr",
     "output_type": "stream",
     "text": [
      "22/06/25 16:23:51 WARN StopWordsRemover: Default locale set was [en_PL]; however, it was not found in available locales in JVM, falling back to en_US locale. Set param `locale` in order to respect another locale.\n",
      "22/06/25 16:23:52 WARN StopWordsRemover: Default locale set was [en_PL]; however, it was not found in available locales in JVM, falling back to en_US locale. Set param `locale` in order to respect another locale.\n",
      "                                                                                \r"
     ]
    }
   ],
   "source": [
    "df = get_vector(comments_df,leave_columns=comments_df_leave_columns)\n",
    "df2 = get_vector(aritcles_data, column='abstract',leave_columns = articles_df_leave_columns)"
   ]
  },
  {
   "cell_type": "code",
   "execution_count": 101,
   "id": "6fb141d4",
   "metadata": {},
   "outputs": [
    {
     "name": "stdout",
     "output_type": "stream",
     "text": [
      "+---------+----------+-----------+---------------+--------------------+----------+--------------------+--------------------+--------------------+\n",
      "|commentID|createDate|approveDate|recommendations|           articleID|replyCount|         commentBody|            filtered|feature_comment_body|\n",
      "+---------+----------+-----------+---------------+--------------------+----------+--------------------+--------------------+--------------------+\n",
      "|104387472|2020-01-01| 2020-01-01|            7.0|nyt://article/69a...|         5|[Here, is, someth...|[something, think...|[0.00240626834177...|\n",
      "|104387873|2020-01-01| 2020-01-01|           17.0|nyt://article/69a...|         0|[I, have, used, m...|[used, VA, loan, ...|[0.00249493141346...|\n",
      "|104387976|2020-01-01| 2020-01-01|            8.0|nyt://article/69a...|         0|[would, someone, ...|[someone, take, V...|[-0.0072937462265...|\n",
      "|104390628|2020-01-01| 2020-01-01|            1.0|nyt://article/69a...|         0|[here, in, the, A...|[Alabama, PNW, tr...|[2.59422583810562...|\n",
      "|104391463|2020-01-01| 2020-01-01|            1.0|nyt://article/69a...|         0|[just, a, guess, ...|[guess, doubt, cr...|[0.00254043831426...|\n",
      "|104392390|2020-01-01| 2020-01-01|            0.0|nyt://article/69a...|         0|[st, you, should,...|[st, take, note, ...|[-6.1903981682421...|\n",
      "|104387855|2020-01-01| 2020-01-01|            7.0|nyt://article/69a...|         0|[SickBut, some, a...|[SickBut, action,...|[-5.9725996106863...|\n",
      "|104388656|2020-01-01| 2020-01-01|           10.0|nyt://article/69a...|         0|[I, totally, agre...|[totally, agree, ...|[-0.0104927157517...|\n",
      "|104388073|2020-01-01| 2020-01-01|            1.0|nyt://article/69a...|         2|[Bill, Clinton, w...|[Bill, Clinton, p...|[-0.0031681686484...|\n",
      "|104391045|2020-01-01| 2020-01-01|            0.0|nyt://article/69a...|         0|[Being, on, the, ...|[board, long, tim...|[0.00101233711900...|\n",
      "|104391967|2020-01-01| 2020-01-01|            0.0|nyt://article/69a...|         0|[until, you, get,...|      [get, elected]|[-0.0014039410743...|\n",
      "|104388652|2020-01-01| 2020-01-01|           16.0|nyt://article/69a...|         0|[Barth, Oh, Jesu,...|[Barth, Oh, Jesu,...|[-0.0014305250696...|\n",
      "|104388717|2020-01-01| 2020-01-01|            7.0|nyt://article/69a...|         0|[Barth, Hi, James...|[Barth, Hi, James...|[-0.0022836595330...|\n",
      "|104391421|2020-01-01| 2020-01-01|            2.0|nyt://article/69a...|         0|[M, Tominey, Thin...|[M, Tominey, Thin...|[-0.0062213756891...|\n",
      "|104392781|2020-01-01| 2020-01-01|            1.0|nyt://article/69a...|         0|[What, I, dont, u...|[dont, understand...|[-6.1187438324042...|\n",
      "|104388486|2020-01-01| 2020-01-01|            6.0|nyt://article/69a...|         1|[The, accreditati...|[accreditation, p...|[-0.0018250986047...|\n",
      "|104388952|2020-01-01| 2020-01-01|            0.0|nyt://article/69a...|         0|[Schwartz, The, A...|[Schwartz, Americ...|[0.00100648085357...|\n",
      "|104388672|2020-01-01| 2020-01-01|           15.0|nyt://article/69a...|         1|[A, whole, , lett...|[whole, , letters...|[-0.0026909575644...|\n",
      "|104388821|2020-01-01| 2020-01-01|            1.0|nyt://article/69a...|         0|[Well, , what, ar...|[Well, , hundreds...|[-0.0080200840270...|\n",
      "|104389130|2020-01-01| 2020-01-01|            4.0|nyt://article/69a...|         5|[There, are, mill...|[millions, studen...|[-0.0104806855242...|\n",
      "+---------+----------+-----------+---------------+--------------------+----------+--------------------+--------------------+--------------------+\n",
      "only showing top 20 rows\n",
      "\n",
      "+----------+--------------------+--------------------+----------+--------------------+--------------------+--------------------+\n",
      "|  pub_date|            keywords|           articleID|pubDateInt|            abstract|            filtered|feature_comment_body|\n",
      "+----------+--------------------+--------------------+----------+--------------------+--------------------+--------------------+\n",
      "|2020-01-01|['Veterans', 'For...|nyt://article/69a...|1577833200|[Congress, could,...|[Congress, much, ...|[0.01466354100395...|\n",
      "|2020-01-01|['Crossword Puzzl...|nyt://article/9ed...|1577833200|[Christina, Ivers...|[Christina, Ivers...|[-0.0418704316502...|\n",
      "|2020-01-01|['Meteors and Met...|nyt://article/04b...|1577833200|[All, year, long,...|[year, long, Eart...|[0.00577992255732...|\n",
      "|2020-01-01|['Space and Astro...|nyt://interactive...|1577833200|[Never, miss, an,...|[Never, miss, ecl...|[0.01033755516012...|\n",
      "|2020-01-01|['Space and Astro...|nyt://article/bd8...|1577833200|[A, year, full, o...|[year, full, high...|[-0.0271881918810...|\n",
      "|2020-01-01|['Iraq', 'Iran', ...|nyt://article/ac7...|1577833200|[Irans, ability, ...|[Irans, ability, ...|[0.00931354725034...|\n",
      "|2020-01-01|['Comedy and Humor']|nyt://article/dea...|1577833200|[If, you, brother...|[brotherinlaw, wa...|[0.01870234092348...|\n",
      "|2020-01-01|['Stroke', 'Brain...|nyt://article/dfd...|1577833200|[After, the, year...|[yearold, woman, ...|[0.00494340684515...|\n",
      "|2020-01-01|['Cooking and Coo...|nyt://article/622...|1577833200|[Tangy, and, juic...|[Tangy, juicy, fi...|[0.00698072074870...|\n",
      "|2020-01-01|[\"Don't Believe a...|nyt://article/7d9...|1577833200|[David, Shariatma...|[David, Shariatma...|[0.01037530157918...|\n",
      "|2020-01-01|['Weight', 'Fasti...|nyt://article/da7...|1577833200|[Intermittent, fa...|[Intermittent, fa...|[0.01364848162564...|\n",
      "|2020-01-01|['California', 'P...|nyt://article/47b...|1577833200|[California, is, ...|[California, givi...|[-0.0038190199838...|\n",
      "|2020-01-01|['Dancing', 'Fash...|nyt://article/ea2...|1577833200|[An, exhibition, ...|[exhibition, Cent...|[0.00281540449941...|\n",
      "|2020-01-01|['Real Estate and...|nyt://article/51c...|1577833200|[Residents, of, t...|[Residents, Somer...|[0.01326657873661...|\n",
      "|2020-01-01|['Design', 'Winte...|nyt://article/3a4...|1577833200|[In, an, iCal, er...|[iCal, era, cofou...|[0.00478498381562...|\n",
      "|2020-01-01|['Real Estate and...|nyt://article/7fe...|1577833200|[A, brandnew, cot...|[brandnew, cottag...|[-0.0435973948333...|\n",
      "|2020-01-01|['Real Estate and...|nyt://article/310...|1577833200|[In, Galicia, whe...|[Galicia, climate...|[0.04034322905742...|\n",
      "|2020-01-01|['Theater', 'Broo...|nyt://article/8f9...|1577833200|[After, a, family...|[family, tragedy,...|[0.02236487742629...|\n",
      "|2020-01-01|['Movies', 'Peele...|nyt://article/c42...|1577833200|[With, its, star,...|[star, Lupita, Ny...|[0.01040041895413...|\n",
      "|2020-01-01|['Anxiety and Str...|nyt://article/41c...|1577833200|[Some, help, , an...|[help, , commiser...|[-0.0647508214460...|\n",
      "+----------+--------------------+--------------------+----------+--------------------+--------------------+--------------------+\n",
      "only showing top 20 rows\n",
      "\n"
     ]
    }
   ],
   "source": [
    "df.show()\n",
    "df2.show()"
   ]
  },
  {
   "cell_type": "code",
   "execution_count": 104,
   "id": "e197772a",
   "metadata": {},
   "outputs": [
    {
     "data": {
      "text/plain": [
       "['pub_date',\n",
       " 'keywords',\n",
       " 'articleID',\n",
       " 'pubDateInt',\n",
       " 'abstract',\n",
       " 'filtered',\n",
       " 'feature_comment_body']"
      ]
     },
     "execution_count": 104,
     "metadata": {},
     "output_type": "execute_result"
    }
   ],
   "source": [
    "df2.columns"
   ]
  },
  {
   "cell_type": "code",
   "execution_count": 103,
   "id": "ae10f7cb",
   "metadata": {
    "scrolled": true
   },
   "outputs": [
    {
     "data": {
      "text/plain": [
       "['commentID',\n",
       " 'createDate',\n",
       " 'approveDate',\n",
       " 'recommendations',\n",
       " 'articleID',\n",
       " 'replyCount',\n",
       " 'commentBody',\n",
       " 'filtered',\n",
       " 'feature_comment_body']"
      ]
     },
     "execution_count": 103,
     "metadata": {},
     "output_type": "execute_result"
    }
   ],
   "source": [
    "df.columns"
   ]
  },
  {
   "cell_type": "code",
   "execution_count": 105,
   "id": "487d6c18",
   "metadata": {},
   "outputs": [],
   "source": [
    "full_df = df.join(df2,on='articleID',how='inner')"
   ]
  },
  {
   "cell_type": "code",
   "execution_count": 106,
   "id": "e4f90790",
   "metadata": {},
   "outputs": [
    {
     "data": {
      "text/plain": [
       "['articleID',\n",
       " 'commentID',\n",
       " 'createDate',\n",
       " 'approveDate',\n",
       " 'recommendations',\n",
       " 'replyCount',\n",
       " 'commentBody',\n",
       " 'filtered',\n",
       " 'feature_comment_body',\n",
       " 'pub_date',\n",
       " 'keywords',\n",
       " 'pubDateInt',\n",
       " 'abstract',\n",
       " 'filtered',\n",
       " 'feature_comment_body']"
      ]
     },
     "execution_count": 106,
     "metadata": {},
     "output_type": "execute_result"
    }
   ],
   "source": [
    "full_df.columns"
   ]
  },
  {
   "cell_type": "code",
   "execution_count": 61,
   "id": "546e93d3",
   "metadata": {},
   "outputs": [],
   "source": [
    "df = df.withColumn('row_index', row_number().over(Window.orderBy(monotonically_increasing_id())))\n",
    "full_df = full_df.withColumn('row_index', row_number().over(Window.orderBy(monotonically_increasing_id())))\n",
    "full_df = full_df.join(df, on=[\"row_index\"]).drop(\"row_index\")"
   ]
  },
  {
   "cell_type": "code",
   "execution_count": 62,
   "id": "01a016b8",
   "metadata": {},
   "outputs": [],
   "source": [
    "df2 = df2.select(col(\"vector\").alias('abstract_vector'))\n",
    "df2 = df2.withColumn('row_index', row_number().over(Window.orderBy(monotonically_increasing_id())))\n",
    "full_df = full_df.withColumn('row_index', row_number().over(Window.orderBy(monotonically_increasing_id())))\n",
    "full_df = full_df.join(df2, on=[\"row_index\"]).drop(\"row_index\")"
   ]
  },
  {
   "cell_type": "code",
   "execution_count": 64,
   "id": "eebcf3c9",
   "metadata": {},
   "outputs": [],
   "source": [
    "from pyspark.ml.feature import VectorAssembler\n",
    "\n",
    "numericCols = ['vector', 'abstract_vector', 'time_passed']\n",
    "assembler = VectorAssembler(inputCols=numericCols, outputCol=\"features\")\n",
    "full_df = assembler.transform(full_df)"
   ]
  },
  {
   "cell_type": "code",
   "execution_count": 65,
   "id": "194ce676",
   "metadata": {},
   "outputs": [],
   "source": [
    "full_df = full_df.drop(*numericCols)"
   ]
  },
  {
   "cell_type": "code",
   "execution_count": 66,
   "id": "facc5081",
   "metadata": {},
   "outputs": [],
   "source": [
    "from pyspark.ml.feature import Bucketizer\n",
    "bucketizer = Bucketizer(splits=[ 0, 6, 12, 18, float('Inf') ],inputCol=\"recommendations\", outputCol=\"buckets\")\n",
    "full_df = bucketizer.setHandleInvalid(\"keep\").transform(full_df)"
   ]
  },
  {
   "cell_type": "code",
   "execution_count": 68,
   "id": "05e2ac1b",
   "metadata": {},
   "outputs": [
    {
     "name": "stdout",
     "output_type": "stream",
     "text": [
      "root\n",
      " |-- articleID: string (nullable = true)\n",
      " |-- commentID: integer (nullable = true)\n",
      " |-- status: string (nullable = true)\n",
      " |-- commentSequence: integer (nullable = true)\n",
      " |-- userID: integer (nullable = true)\n",
      " |-- userDisplayName: string (nullable = true)\n",
      " |-- userLocation: string (nullable = true)\n",
      " |-- userTitle: string (nullable = true)\n",
      " |-- commentBody: string (nullable = true)\n",
      " |-- createDate: date (nullable = true)\n",
      " |-- updateDate: date (nullable = true)\n",
      " |-- approveDate: date (nullable = true)\n",
      " |-- recommendations: float (nullable = true)\n",
      " |-- replyCount: integer (nullable = true)\n",
      " |-- editorsSelection: integer (nullable = true)\n",
      " |-- parentID: string (nullable = true)\n",
      " |-- parentUserDisplayName: string (nullable = true)\n",
      " |-- depth: integer (nullable = true)\n",
      " |-- commentType: string (nullable = true)\n",
      " |-- trusted: string (nullable = true)\n",
      " |-- recommendedFlag: integer (nullable = true)\n",
      " |-- permID: string (nullable = true)\n",
      " |-- isAnonymous: integer (nullable = true)\n",
      " |-- createDateInt: long (nullable = true)\n",
      " |-- abstract: string (nullable = true)\n",
      " |-- pub_date: date (nullable = true)\n",
      " |-- keywords: string (nullable = true)\n",
      " |-- pubDateInt: long (nullable = true)\n",
      " |-- commentBody: array (nullable = true)\n",
      " |    |-- element: string (containsNull = true)\n",
      " |-- filtered: array (nullable = true)\n",
      " |    |-- element: string (containsNull = true)\n",
      " |-- features: vector (nullable = true)\n",
      " |-- buckets: double (nullable = true)\n",
      "\n"
     ]
    }
   ],
   "source": [
    "full_df.printSchema()"
   ]
  },
  {
   "cell_type": "code",
   "execution_count": 69,
   "id": "96364aff",
   "metadata": {},
   "outputs": [
    {
     "ename": "IllegalArgumentException",
     "evalue": "requirement failed: DataFrame must have a single vector type column",
     "output_type": "error",
     "traceback": [
      "\u001b[0;31m---------------------------------------------------------------------------\u001b[0m",
      "\u001b[0;31mIllegalArgumentException\u001b[0m                  Traceback (most recent call last)",
      "\u001b[0;32m<ipython-input-69-cec7a8476480>\u001b[0m in \u001b[0;36m<module>\u001b[0;34m\u001b[0m\n\u001b[1;32m      3\u001b[0m \u001b[0;32mfrom\u001b[0m \u001b[0mpyspark\u001b[0m\u001b[0;34m.\u001b[0m\u001b[0msql\u001b[0m\u001b[0;34m.\u001b[0m\u001b[0mfunctions\u001b[0m \u001b[0;32mimport\u001b[0m \u001b[0mudf\u001b[0m\u001b[0;34m,\u001b[0m \u001b[0marray\u001b[0m\u001b[0;34m\u001b[0m\u001b[0;34m\u001b[0m\u001b[0m\n\u001b[1;32m      4\u001b[0m \u001b[0;34m\u001b[0m\u001b[0m\n\u001b[0;32m----> 5\u001b[0;31m \u001b[0mmat\u001b[0m \u001b[0;34m=\u001b[0m \u001b[0mRowMatrix\u001b[0m\u001b[0;34m(\u001b[0m\u001b[0mfull_df\u001b[0m\u001b[0;34m.\u001b[0m\u001b[0mselect\u001b[0m\u001b[0;34m(\u001b[0m\u001b[0;34m'features'\u001b[0m\u001b[0;34m)\u001b[0m\u001b[0;34m)\u001b[0m\u001b[0;34m\u001b[0m\u001b[0;34m\u001b[0m\u001b[0m\n\u001b[0m\u001b[1;32m      6\u001b[0m \u001b[0;31m# Compute the top 4 principal components.\u001b[0m\u001b[0;34m\u001b[0m\u001b[0;34m\u001b[0m\u001b[0;34m\u001b[0m\u001b[0m\n\u001b[1;32m      7\u001b[0m \u001b[0;31m# Principal components are stored in a local dense matrix.\u001b[0m\u001b[0;34m\u001b[0m\u001b[0;34m\u001b[0m\u001b[0;34m\u001b[0m\u001b[0m\n",
      "\u001b[0;32m~/anaconda3/lib/python3.7/site-packages/pyspark/mllib/linalg/distributed.py\u001b[0m in \u001b[0;36m__init__\u001b[0;34m(self, rows, numRows, numCols)\u001b[0m\n\u001b[1;32m    103\u001b[0m             \u001b[0mjava_matrix\u001b[0m \u001b[0;34m=\u001b[0m \u001b[0mcallMLlibFunc\u001b[0m\u001b[0;34m(\u001b[0m\u001b[0;34m\"createRowMatrix\"\u001b[0m\u001b[0;34m,\u001b[0m \u001b[0mrows\u001b[0m\u001b[0;34m,\u001b[0m \u001b[0mint\u001b[0m\u001b[0;34m(\u001b[0m\u001b[0mnumRows\u001b[0m\u001b[0;34m)\u001b[0m\u001b[0;34m,\u001b[0m \u001b[0mint\u001b[0m\u001b[0;34m(\u001b[0m\u001b[0mnumCols\u001b[0m\u001b[0;34m)\u001b[0m\u001b[0;34m)\u001b[0m\u001b[0;34m\u001b[0m\u001b[0;34m\u001b[0m\u001b[0m\n\u001b[1;32m    104\u001b[0m         \u001b[0;32melif\u001b[0m \u001b[0misinstance\u001b[0m\u001b[0;34m(\u001b[0m\u001b[0mrows\u001b[0m\u001b[0;34m,\u001b[0m \u001b[0mDataFrame\u001b[0m\u001b[0;34m)\u001b[0m\u001b[0;34m:\u001b[0m\u001b[0;34m\u001b[0m\u001b[0;34m\u001b[0m\u001b[0m\n\u001b[0;32m--> 105\u001b[0;31m             \u001b[0mjava_matrix\u001b[0m \u001b[0;34m=\u001b[0m \u001b[0mcallMLlibFunc\u001b[0m\u001b[0;34m(\u001b[0m\u001b[0;34m\"createRowMatrix\"\u001b[0m\u001b[0;34m,\u001b[0m \u001b[0mrows\u001b[0m\u001b[0;34m,\u001b[0m \u001b[0mint\u001b[0m\u001b[0;34m(\u001b[0m\u001b[0mnumRows\u001b[0m\u001b[0;34m)\u001b[0m\u001b[0;34m,\u001b[0m \u001b[0mint\u001b[0m\u001b[0;34m(\u001b[0m\u001b[0mnumCols\u001b[0m\u001b[0;34m)\u001b[0m\u001b[0;34m)\u001b[0m\u001b[0;34m\u001b[0m\u001b[0;34m\u001b[0m\u001b[0m\n\u001b[0m\u001b[1;32m    106\u001b[0m         elif (isinstance(rows, JavaObject)\n\u001b[1;32m    107\u001b[0m               and rows.getClass().getSimpleName() == \"RowMatrix\"):\n",
      "\u001b[0;32m~/anaconda3/lib/python3.7/site-packages/pyspark/mllib/common.py\u001b[0m in \u001b[0;36mcallMLlibFunc\u001b[0;34m(name, *args)\u001b[0m\n\u001b[1;32m    123\u001b[0m     \u001b[0msc\u001b[0m \u001b[0;34m=\u001b[0m \u001b[0mSparkContext\u001b[0m\u001b[0;34m.\u001b[0m\u001b[0mgetOrCreate\u001b[0m\u001b[0;34m(\u001b[0m\u001b[0;34m)\u001b[0m\u001b[0;34m\u001b[0m\u001b[0;34m\u001b[0m\u001b[0m\n\u001b[1;32m    124\u001b[0m     \u001b[0mapi\u001b[0m \u001b[0;34m=\u001b[0m \u001b[0mgetattr\u001b[0m\u001b[0;34m(\u001b[0m\u001b[0msc\u001b[0m\u001b[0;34m.\u001b[0m\u001b[0m_jvm\u001b[0m\u001b[0;34m.\u001b[0m\u001b[0mPythonMLLibAPI\u001b[0m\u001b[0;34m(\u001b[0m\u001b[0;34m)\u001b[0m\u001b[0;34m,\u001b[0m \u001b[0mname\u001b[0m\u001b[0;34m)\u001b[0m\u001b[0;34m\u001b[0m\u001b[0;34m\u001b[0m\u001b[0m\n\u001b[0;32m--> 125\u001b[0;31m     \u001b[0;32mreturn\u001b[0m \u001b[0mcallJavaFunc\u001b[0m\u001b[0;34m(\u001b[0m\u001b[0msc\u001b[0m\u001b[0;34m,\u001b[0m \u001b[0mapi\u001b[0m\u001b[0;34m,\u001b[0m \u001b[0;34m*\u001b[0m\u001b[0margs\u001b[0m\u001b[0;34m)\u001b[0m\u001b[0;34m\u001b[0m\u001b[0;34m\u001b[0m\u001b[0m\n\u001b[0m\u001b[1;32m    126\u001b[0m \u001b[0;34m\u001b[0m\u001b[0m\n\u001b[1;32m    127\u001b[0m \u001b[0;34m\u001b[0m\u001b[0m\n",
      "\u001b[0;32m~/anaconda3/lib/python3.7/site-packages/pyspark/mllib/common.py\u001b[0m in \u001b[0;36mcallJavaFunc\u001b[0;34m(sc, func, *args)\u001b[0m\n\u001b[1;32m    116\u001b[0m     \u001b[0;34m\"\"\" Call Java Function \"\"\"\u001b[0m\u001b[0;34m\u001b[0m\u001b[0;34m\u001b[0m\u001b[0m\n\u001b[1;32m    117\u001b[0m     \u001b[0margs\u001b[0m \u001b[0;34m=\u001b[0m \u001b[0;34m[\u001b[0m\u001b[0m_py2java\u001b[0m\u001b[0;34m(\u001b[0m\u001b[0msc\u001b[0m\u001b[0;34m,\u001b[0m \u001b[0ma\u001b[0m\u001b[0;34m)\u001b[0m \u001b[0;32mfor\u001b[0m \u001b[0ma\u001b[0m \u001b[0;32min\u001b[0m \u001b[0margs\u001b[0m\u001b[0;34m]\u001b[0m\u001b[0;34m\u001b[0m\u001b[0;34m\u001b[0m\u001b[0m\n\u001b[0;32m--> 118\u001b[0;31m     \u001b[0;32mreturn\u001b[0m \u001b[0m_java2py\u001b[0m\u001b[0;34m(\u001b[0m\u001b[0msc\u001b[0m\u001b[0;34m,\u001b[0m \u001b[0mfunc\u001b[0m\u001b[0;34m(\u001b[0m\u001b[0;34m*\u001b[0m\u001b[0margs\u001b[0m\u001b[0;34m)\u001b[0m\u001b[0;34m)\u001b[0m\u001b[0;34m\u001b[0m\u001b[0;34m\u001b[0m\u001b[0m\n\u001b[0m\u001b[1;32m    119\u001b[0m \u001b[0;34m\u001b[0m\u001b[0m\n\u001b[1;32m    120\u001b[0m \u001b[0;34m\u001b[0m\u001b[0m\n",
      "\u001b[0;32m~/anaconda3/lib/python3.7/site-packages/py4j/java_gateway.py\u001b[0m in \u001b[0;36m__call__\u001b[0;34m(self, *args)\u001b[0m\n\u001b[1;32m   1320\u001b[0m         \u001b[0manswer\u001b[0m \u001b[0;34m=\u001b[0m \u001b[0mself\u001b[0m\u001b[0;34m.\u001b[0m\u001b[0mgateway_client\u001b[0m\u001b[0;34m.\u001b[0m\u001b[0msend_command\u001b[0m\u001b[0;34m(\u001b[0m\u001b[0mcommand\u001b[0m\u001b[0;34m)\u001b[0m\u001b[0;34m\u001b[0m\u001b[0;34m\u001b[0m\u001b[0m\n\u001b[1;32m   1321\u001b[0m         return_value = get_return_value(\n\u001b[0;32m-> 1322\u001b[0;31m             answer, self.gateway_client, self.target_id, self.name)\n\u001b[0m\u001b[1;32m   1323\u001b[0m \u001b[0;34m\u001b[0m\u001b[0m\n\u001b[1;32m   1324\u001b[0m         \u001b[0;32mfor\u001b[0m \u001b[0mtemp_arg\u001b[0m \u001b[0;32min\u001b[0m \u001b[0mtemp_args\u001b[0m\u001b[0;34m:\u001b[0m\u001b[0;34m\u001b[0m\u001b[0;34m\u001b[0m\u001b[0m\n",
      "\u001b[0;32m~/anaconda3/lib/python3.7/site-packages/pyspark/sql/utils.py\u001b[0m in \u001b[0;36mdeco\u001b[0;34m(*a, **kw)\u001b[0m\n\u001b[1;32m    115\u001b[0m                 \u001b[0;31m# Hide where the exception came from that shows a non-Pythonic\u001b[0m\u001b[0;34m\u001b[0m\u001b[0;34m\u001b[0m\u001b[0;34m\u001b[0m\u001b[0m\n\u001b[1;32m    116\u001b[0m                 \u001b[0;31m# JVM exception message.\u001b[0m\u001b[0;34m\u001b[0m\u001b[0;34m\u001b[0m\u001b[0;34m\u001b[0m\u001b[0m\n\u001b[0;32m--> 117\u001b[0;31m                 \u001b[0;32mraise\u001b[0m \u001b[0mconverted\u001b[0m \u001b[0;32mfrom\u001b[0m \u001b[0;32mNone\u001b[0m\u001b[0;34m\u001b[0m\u001b[0;34m\u001b[0m\u001b[0m\n\u001b[0m\u001b[1;32m    118\u001b[0m             \u001b[0;32melse\u001b[0m\u001b[0;34m:\u001b[0m\u001b[0;34m\u001b[0m\u001b[0;34m\u001b[0m\u001b[0m\n\u001b[1;32m    119\u001b[0m                 \u001b[0;32mraise\u001b[0m\u001b[0;34m\u001b[0m\u001b[0;34m\u001b[0m\u001b[0m\n",
      "\u001b[0;31mIllegalArgumentException\u001b[0m: requirement failed: DataFrame must have a single vector type column"
     ]
    }
   ],
   "source": [
    "#### TODO ####\n",
    "\n",
    "# from pyspark.mllib.linalg.distributed import RowMatrix\n",
    "# from pyspark.mllib.linalg import Vectors, VectorUDT\n",
    "# from pyspark.sql.functions import udf, array\n",
    "\n",
    "# mat = RowMatrix(full_df.select('features'))\n",
    "# pc = mat.computePrincipalComponents(10)\n",
    "# projected = mat.multiply(pc)"
   ]
  },
  {
   "cell_type": "code",
   "execution_count": 43,
   "id": "c0f83cd8",
   "metadata": {},
   "outputs": [
    {
     "name": "stdout",
     "output_type": "stream",
     "text": [
      "+--------------+-------+--------------------+\n",
      "|predictedLabel|buckets|            features|\n",
      "+--------------+-------+--------------------+\n",
      "|           0.0|    3.0|[-0.0213082146025...|\n",
      "|           0.0|    2.0|[0.00879926614080...|\n",
      "|           0.0|    0.0|[-0.0183993745595...|\n",
      "|           0.0|    0.0|(201,[100,101,102...|\n",
      "|           0.0|    0.0|[0.01398731380322...|\n",
      "|           0.0|    0.0|[0.03632894159718...|\n",
      "|           0.0|    0.0|[0.03271815881181...|\n",
      "|           0.0|    0.0|[0.05916589977568...|\n",
      "|           0.0|    0.0|[0.07192069188588...|\n",
      "|           0.0|    0.0|[0.08958277180499...|\n",
      "|           0.0|    0.0|[0.02133534631866...|\n",
      "|           0.0|    0.0|[0.02119789324014...|\n",
      "|           0.0|    0.0|[-0.0079683041221...|\n",
      "|           0.0|    0.0|[0.00568002799179...|\n",
      "|           0.0|    0.0|[0.01157510414682...|\n",
      "+--------------+-------+--------------------+\n",
      "only showing top 15 rows\n",
      "\n",
      "Test Error = 0.335054\n",
      "RandomForestClassificationModel: uid=RandomForestClassifier_3e3fb794058f, numTrees=20, numClasses=4, numFeatures=201\n"
     ]
    }
   ],
   "source": [
    "from pyspark.ml import Pipeline\n",
    "from pyspark.ml.classification import RandomForestClassifier\n",
    "from pyspark.ml.feature import IndexToString, StringIndexer, VectorIndexer\n",
    "from pyspark.ml.evaluation import MulticlassClassificationEvaluator\n",
    "\n",
    "# Load and parse the data file, converting it to a DataFrame.\n",
    "data = full_df\n",
    "\n",
    "# Index labels, adding metadata to the label column.\n",
    "# Fit on whole dataset to include all labels in index.\n",
    "labelIndexer = StringIndexer(inputCol=\"buckets\", outputCol=\"indexedLabel\").fit(data)\n",
    "\n",
    "# Automatically identify categorical features, and index them.\n",
    "# Set maxCategories so features with > 4 distinct values are treated as continuous.\n",
    "featureIndexer =\\\n",
    "    VectorIndexer(inputCol=\"features\", outputCol=\"indexedFeatures\").fit(data)\n",
    "\n",
    "# Split the data into training and test sets (30% held out for testing)\n",
    "(trainingData, testData) = data.randomSplit([0.7, 0.3])\n",
    "\n",
    "# Train a RandomForest model.\n",
    "rf = RandomForestClassifier(labelCol=\"buckets\", featuresCol=\"indexedFeatures\")\n",
    "\n",
    "# Convert indexed labels back to original labels.\n",
    "labelConverter = IndexToString(inputCol=\"prediction\", outputCol=\"predictedLabel\",\n",
    "                               labels=labelIndexer.labels)\n",
    "\n",
    "# Chain indexers and forest in a Pipeline\n",
    "pipeline = Pipeline(stages=[labelIndexer, featureIndexer, rf, labelConverter])\n",
    "\n",
    "# Train model.  This also runs the indexers.\n",
    "model = pipeline.fit(trainingData)\n",
    "\n",
    "# Make predictions.\n",
    "predictions = model.transform(testData)\n",
    "\n",
    "# Select example rows to display.\n",
    "predictions.select(\"predictedLabel\", \"buckets\", \"features\").show(15)\n",
    "\n",
    "# Select (prediction, true label) and compute test error\n",
    "evaluator = MulticlassClassificationEvaluator(\n",
    "    labelCol=\"buckets\", predictionCol=\"prediction\", metricName=\"accuracy\")\n",
    "accuracy = evaluator.evaluate(predictions)\n",
    "print(\"Test Error = %g\" % (1.0 - accuracy))\n",
    "\n",
    "rfModel = model.stages[2]\n",
    "print(rfModel)  # summary only"
   ]
  }
 ],
 "metadata": {
  "kernelspec": {
   "display_name": "Python 3 (ipykernel)",
   "language": "python",
   "name": "python3"
  },
  "language_info": {
   "codemirror_mode": {
    "name": "ipython",
    "version": 3
   },
   "file_extension": ".py",
   "mimetype": "text/x-python",
   "name": "python",
   "nbconvert_exporter": "python",
   "pygments_lexer": "ipython3",
   "version": "3.9.13"
  }
 },
 "nbformat": 4,
 "nbformat_minor": 5
}
