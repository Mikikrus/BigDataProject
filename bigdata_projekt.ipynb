{
 "cells": [
  {
   "cell_type": "markdown",
   "id": "7138e9c2",
   "metadata": {
    "pycharm": {
     "name": "#%% md\n"
    }
   },
   "source": [
    "### Project description"
   ]
  },
  {
   "cell_type": "markdown",
   "id": "de743277",
   "metadata": {
    "pycharm": {
     "name": "#%% md\n"
    }
   },
   "source": [
    "The project is about predicting the number of recommendations of a comment performed on New York Times Comments\n",
    "dataset that can be found under the link https://www.kaggle.com/datasets/aashita/nyt-comments.\n",
    "Main challanges of this project are:\n",
    "* handling large data volume\n",
    "* feature engineering\n",
    "* etc..\n",
    "To "
   ]
  },
  {
   "cell_type": "markdown",
   "id": "844bb535",
   "metadata": {
    "pycharm": {
     "name": "#%% md\n"
    }
   },
   "source": [
    "### Imports"
   ]
  },
  {
   "cell_type": "code",
   "execution_count": 1,
   "id": "ab31dec4",
   "metadata": {
    "pycharm": {
     "name": "#%%\n"
    }
   },
   "outputs": [],
   "source": [
    "import findspark\n",
    "findspark.init()\n",
    "from pyspark.sql import SparkSession\n",
    "from pyspark.sql.functions import *\n",
    "from pyspark.sql.types import DateType\n",
    "import pandas as pd"
   ]
  },
  {
   "cell_type": "code",
   "execution_count": 2,
   "id": "3c4e1bf4",
   "metadata": {
    "pycharm": {
     "name": "#%%\n"
    }
   },
   "outputs": [
    {
     "name": "stderr",
     "output_type": "stream",
     "text": [
      "22/06/25 19:08:29 WARN NativeCodeLoader: Unable to load native-hadoop library for your platform... using builtin-java classes where applicable\n",
      "Using Spark's default log4j profile: org/apache/spark/log4j-defaults.properties\n",
      "Setting default log level to \"WARN\".\n",
      "To adjust logging level use sc.setLogLevel(newLevel). For SparkR, use setLogLevel(newLevel).\n"
     ]
    }
   ],
   "source": [
    "from pyspark import SparkContext, SparkConf\n",
    "conf = SparkConf().setMaster(\"local[8]\").setAppName(\"big_data\")\n",
    "sc = SparkContext.getOrCreate(conf=conf)"
   ]
  },
  {
   "cell_type": "code",
   "execution_count": 3,
   "id": "c177d47c",
   "metadata": {
    "pycharm": {
     "name": "#%%\n"
    }
   },
   "outputs": [],
   "source": [
    "spark = SparkSession.builder.getOrCreate()"
   ]
  },
  {
   "cell_type": "markdown",
   "id": "18505333",
   "metadata": {
    "pycharm": {
     "name": "#%% md\n"
    }
   },
   "source": [
    "### Reading data"
   ]
  },
  {
   "cell_type": "code",
   "execution_count": 4,
   "id": "3881ec7b",
   "metadata": {
    "pycharm": {
     "name": "#%%\n"
    }
   },
   "outputs": [],
   "source": [
    "def read_spark_df(path):\n",
    "    return spark.read.option(\"multiline\",True).option('lineSep','\\n').option(\"header\", True).option(\"delimiter\", \",\").option(\"inferSchema\",True).option(\"escapeQuotes\", True).option(\"quote\", \"\\\"\").option(\"escape\", \"\\\"\").csv(path)"
   ]
  },
  {
   "cell_type": "code",
   "execution_count": 5,
   "id": "c6ef6f29",
   "metadata": {
    "pycharm": {
     "name": "#%%\n"
    }
   },
   "outputs": [
    {
     "name": "stderr",
     "output_type": "stream",
     "text": [
      "                                                                                \r"
     ]
    }
   ],
   "source": [
    "articles_df = read_spark_df('data/nyt-articles-2020.csv')\n",
    "\n",
    "\n",
    "comments_df = read_spark_df('data/nyt-comments-2020.csv')"
   ]
  },
  {
   "cell_type": "code",
   "execution_count": 6,
   "id": "6b6996ca",
   "metadata": {},
   "outputs": [
    {
     "name": "stdout",
     "output_type": "stream",
     "text": [
      "root\n",
      " |-- newsdesk: string (nullable = true)\n",
      " |-- section: string (nullable = true)\n",
      " |-- subsection: string (nullable = true)\n",
      " |-- material: string (nullable = true)\n",
      " |-- headline: string (nullable = true)\n",
      " |-- abstract: string (nullable = true)\n",
      " |-- keywords: string (nullable = true)\n",
      " |-- word_count: integer (nullable = true)\n",
      " |-- pub_date: string (nullable = true)\n",
      " |-- n_comments: integer (nullable = true)\n",
      " |-- uniqueID\r",
      ": string (nullable = true)\n",
      "\n"
     ]
    }
   ],
   "source": [
    "articles_df.printSchema()"
   ]
  },
  {
   "cell_type": "code",
   "execution_count": 7,
   "id": "4f2d056e",
   "metadata": {},
   "outputs": [],
   "source": [
    "comments_df = comments_df.limit(1000)"
   ]
  },
  {
   "cell_type": "code",
   "execution_count": 8,
   "id": "62879223",
   "metadata": {},
   "outputs": [],
   "source": [
    "df = comments_df.withColumn(\"updateDate\", comments_df['updateDate'].cast(DateType()))"
   ]
  },
  {
   "cell_type": "code",
   "execution_count": 9,
   "id": "af46e756",
   "metadata": {
    "pycharm": {
     "name": "#%%\n"
    }
   },
   "outputs": [
    {
     "name": "stdout",
     "output_type": "stream",
     "text": [
      "root\n",
      " |-- commentID: integer (nullable = true)\n",
      " |-- status: string (nullable = true)\n",
      " |-- commentSequence: integer (nullable = true)\n",
      " |-- userID: integer (nullable = true)\n",
      " |-- userDisplayName: string (nullable = true)\n",
      " |-- userLocation: string (nullable = true)\n",
      " |-- userTitle: string (nullable = true)\n",
      " |-- commentBody: string (nullable = true)\n",
      " |-- createDate: string (nullable = true)\n",
      " |-- updateDate: string (nullable = true)\n",
      " |-- approveDate: string (nullable = true)\n",
      " |-- recommendations: integer (nullable = true)\n",
      " |-- replyCount: integer (nullable = true)\n",
      " |-- editorsSelection: boolean (nullable = true)\n",
      " |-- parentID: double (nullable = true)\n",
      " |-- parentUserDisplayName: string (nullable = true)\n",
      " |-- depth: integer (nullable = true)\n",
      " |-- commentType: string (nullable = true)\n",
      " |-- trusted: integer (nullable = true)\n",
      " |-- recommendedFlag: integer (nullable = true)\n",
      " |-- permID: integer (nullable = true)\n",
      " |-- isAnonymous: boolean (nullable = true)\n",
      " |-- articleID: string (nullable = true)\n",
      "\n"
     ]
    }
   ],
   "source": [
    "comments_df.printSchema()"
   ]
  },
  {
   "cell_type": "markdown",
   "id": "5458492c",
   "metadata": {
    "pycharm": {
     "name": "#%% md\n"
    }
   },
   "source": [
    "We can observe that although we used inferSchema some of the columns should be stored as a different data type. Let's fix it."
   ]
  },
  {
   "cell_type": "code",
   "execution_count": 10,
   "id": "c07c2919",
   "metadata": {
    "pycharm": {
     "name": "#%%\n"
    }
   },
   "outputs": [],
   "source": [
    "comments_df=comments_df.withColumn('recommendations',comments_df['recommendations'].cast(\"float\"))\\\n",
    "                        .withColumn(\"createDate\", comments_df['createDate'].cast(DateType()))\\\n",
    "                        .withColumn(\"updateDate\", comments_df['updateDate'].cast(DateType()))\\\n",
    "                        .withColumn(\"approveDate\", comments_df['approveDate'].cast(DateType()))\\\n",
    "                        .withColumn('replyCount',comments_df['replyCount'].cast(\"int\"))\\\n",
    "                        .withColumn('depth',comments_df['depth'].cast(\"int\"))\\\n",
    "                        .withColumn('isAnonymous',comments_df['isAnonymous'].cast(\"int\"))\\\n",
    "                        .withColumn('editorsSelection',comments_df['editorsSelection'].cast(\"int\"))\n",
    "#actually some of the above columns are boolean but pyspark does not provide such datatype so we cast them to int"
   ]
  },
  {
   "cell_type": "code",
   "execution_count": 11,
   "id": "bdceb49a",
   "metadata": {},
   "outputs": [],
   "source": [
    "articles_df = articles_df.withColumn('word_count',articles_df['word_count'].cast(\"int\"))\\\n",
    "                         .withColumn(\"pub_date\", articles_df['pub_date'].cast(DateType()))\\\n",
    "                         .withColumn('n_comments',articles_df['n_comments'].cast(\"int\"))"
   ]
  },
  {
   "cell_type": "code",
   "execution_count": 12,
   "id": "0672ddd3",
   "metadata": {
    "pycharm": {
     "name": "#%%\n"
    }
   },
   "outputs": [
    {
     "name": "stdout",
     "output_type": "stream",
     "text": [
      "root\n",
      " |-- commentID: integer (nullable = true)\n",
      " |-- status: string (nullable = true)\n",
      " |-- commentSequence: integer (nullable = true)\n",
      " |-- userID: integer (nullable = true)\n",
      " |-- userDisplayName: string (nullable = true)\n",
      " |-- userLocation: string (nullable = true)\n",
      " |-- userTitle: string (nullable = true)\n",
      " |-- commentBody: string (nullable = true)\n",
      " |-- createDate: date (nullable = true)\n",
      " |-- updateDate: date (nullable = true)\n",
      " |-- approveDate: date (nullable = true)\n",
      " |-- recommendations: float (nullable = true)\n",
      " |-- replyCount: integer (nullable = true)\n",
      " |-- editorsSelection: integer (nullable = true)\n",
      " |-- parentID: double (nullable = true)\n",
      " |-- parentUserDisplayName: string (nullable = true)\n",
      " |-- depth: integer (nullable = true)\n",
      " |-- commentType: string (nullable = true)\n",
      " |-- trusted: integer (nullable = true)\n",
      " |-- recommendedFlag: integer (nullable = true)\n",
      " |-- permID: integer (nullable = true)\n",
      " |-- isAnonymous: integer (nullable = true)\n",
      " |-- articleID: string (nullable = true)\n",
      "\n"
     ]
    }
   ],
   "source": [
    "comments_df.printSchema()"
   ]
  },
  {
   "cell_type": "code",
   "execution_count": 13,
   "id": "04073825",
   "metadata": {},
   "outputs": [
    {
     "name": "stdout",
     "output_type": "stream",
     "text": [
      "root\n",
      " |-- newsdesk: string (nullable = true)\n",
      " |-- section: string (nullable = true)\n",
      " |-- subsection: string (nullable = true)\n",
      " |-- material: string (nullable = true)\n",
      " |-- headline: string (nullable = true)\n",
      " |-- abstract: string (nullable = true)\n",
      " |-- keywords: string (nullable = true)\n",
      " |-- word_count: integer (nullable = true)\n",
      " |-- pub_date: date (nullable = true)\n",
      " |-- n_comments: integer (nullable = true)\n",
      " |-- uniqueID\r",
      ": string (nullable = true)\n",
      "\n"
     ]
    }
   ],
   "source": [
    "articles_df.printSchema()"
   ]
  },
  {
   "cell_type": "markdown",
   "id": "aebd7a6f",
   "metadata": {
    "pycharm": {
     "name": "#%% md\n"
    }
   },
   "source": [
    "Let's take a look at our target variable"
   ]
  },
  {
   "cell_type": "code",
   "execution_count": 14,
   "id": "86a97d42",
   "metadata": {
    "pycharm": {
     "name": "#%%\n"
    }
   },
   "outputs": [
    {
     "name": "stdout",
     "output_type": "stream",
     "text": [
      "+-------+-----------------+\n",
      "|summary|  recommendations|\n",
      "+-------+-----------------+\n",
      "|  count|             1000|\n",
      "|   mean|           11.986|\n",
      "| stddev|27.61623545055446|\n",
      "|    min|              0.0|\n",
      "|    max|            402.0|\n",
      "+-------+-----------------+\n",
      "\n"
     ]
    }
   ],
   "source": [
    "comments_df.describe(['recommendations']).show()"
   ]
  },
  {
   "cell_type": "markdown",
   "id": "f052ebcc",
   "metadata": {
    "pycharm": {
     "name": "#%% md\n"
    }
   },
   "source": [
    "We can observe that data is contains outliers. We will get rid of them using quantiles."
   ]
  },
  {
   "cell_type": "code",
   "execution_count": 15,
   "id": "a13186e8",
   "metadata": {
    "pycharm": {
     "name": "#%%\n"
    }
   },
   "outputs": [],
   "source": [
    "upper_limit = comments_df.approxQuantile('recommendations', [ 0.9], 0.05)[0]"
   ]
  },
  {
   "cell_type": "code",
   "execution_count": 16,
   "id": "3155001e",
   "metadata": {
    "pycharm": {
     "name": "#%%\n"
    }
   },
   "outputs": [],
   "source": [
    "comments_df = comments_df.filter((col('recommendations')<upper_limit))"
   ]
  },
  {
   "cell_type": "code",
   "execution_count": 17,
   "id": "699dcac3",
   "metadata": {},
   "outputs": [
    {
     "name": "stdout",
     "output_type": "stream",
     "text": [
      "+-------+-----------------+\n",
      "|summary|  recommendations|\n",
      "+-------+-----------------+\n",
      "|  count|              852|\n",
      "|   mean|4.772300469483568|\n",
      "| stddev|5.022607677901019|\n",
      "|    min|              0.0|\n",
      "|    max|             20.0|\n",
      "+-------+-----------------+\n",
      "\n"
     ]
    }
   ],
   "source": [
    "comments_df.describe(['recommendations']).show()"
   ]
  },
  {
   "cell_type": "code",
   "execution_count": 18,
   "id": "522a13f7",
   "metadata": {},
   "outputs": [
    {
     "name": "stderr",
     "output_type": "stream",
     "text": [
      "\r",
      "[Stage 11:>                                                         (0 + 1) / 1]\r",
      "\r",
      "                                                                                \r"
     ]
    },
    {
     "data": {
      "image/png": "[encoded data removed]",
      "text/plain": [
       "<Figure size 432x288 with 1 Axes>"
      ]
     },
     "metadata": {
      "needs_background": "light"
     },
     "output_type": "display_data"
    }
   ],
   "source": [
    "gre_histogram = comments_df.select('recommendations').rdd.flatMap(lambda x: x).histogram(11)\n",
    "\n",
    "# Loading the Computed Histogram into a Pandas Dataframe for plotting\n",
    "pd.DataFrame(\n",
    "    list(zip(*gre_histogram)), \n",
    "    columns=['bin', 'frequency']\n",
    ").set_index(\n",
    "    'bin'\n",
    ").plot(kind='bar');"
   ]
  },
  {
   "cell_type": "markdown",
   "id": "3331b602",
   "metadata": {},
   "source": [
    "Transformr text to vectors"
   ]
  },
  {
   "cell_type": "code",
   "execution_count": 19,
   "id": "e9645696",
   "metadata": {},
   "outputs": [],
   "source": [
    "from pyspark.ml.feature import StopWordsRemover,Word2Vec\n",
    "from pyspark.sql.functions import monotonically_increasing_id, row_number\n",
    "from pyspark.sql.window import Window\n",
    "import pyspark.sql.functions as F"
   ]
  },
  {
   "cell_type": "code",
   "execution_count": 20,
   "id": "b7763206",
   "metadata": {},
   "outputs": [],
   "source": [
    "comments_df=comments_df.withColumn(\"createDateInt\", F.unix_timestamp(comments_df['createDate']))\n",
    "\n",
    "aritcles_data = articles_df.select(col(\"abstract\"),col(\"pub_date\"),\n",
    "                          col(\"keywords\"),\n",
    "                          col(\"uniqueID\\r\").alias('articleID'))\n",
    "aritcles_data = aritcles_data.withColumn(\"pubDateInt\", F.unix_timestamp(col('pub_date'))).drop('pub_date')\n",
    "# aritcles_data = aritcles_data.filter(~ col('abstract').isNull()) # TODO: nie wywalać tylko uzpełniać średnią wartośćią z wek"
   ]
  },
  {
   "cell_type": "code",
   "execution_count": 21,
   "id": "86e41097",
   "metadata": {},
   "outputs": [
    {
     "name": "stdout",
     "output_type": "stream",
     "text": [
      "+--------------+------------------+-----------+-------------------+--------------------+--------------------+--------------------+----------+----------+----------+--------------------+\n",
      "|      newsdesk|           section| subsection|           material|            headline|            abstract|            keywords|word_count|  pub_date|n_comments|           uniqueID\r",
      "|\n",
      "+--------------+------------------+-----------+-------------------+--------------------+--------------------+--------------------+----------+----------+----------+--------------------+\n",
      "|     Editorial|           Opinion|       null|          Editorial|Protect Veterans ...|Congress could do...|['Veterans', 'For...|       680|2020-01-01|       186|nyt://article/69a...|\n",
      "|         Games|Crosswords & Games|       null|               News|‘It’s Green and S...|Christina Iverson...|['Crossword Puzzl...|       931|2020-01-01|       257|nyt://article/9ed...|\n",
      "|       Science|           Science|       null|               News|Meteor Showers in...|All year long, Ea...|['Meteors and Met...|      1057|2020-01-01|         6|nyt://article/04b...|\n",
      "|       Science|           Science|       null|Interactive Feature|Sync your calenda...|Never miss an ecl...|['Space and Astro...|         0|2020-01-01|         2|nyt://interactive...|\n",
      "|       Science|           Science|       null|               News|Rocket Launches, ...|A year full of hi...|['Space and Astro...|      1156|2020-01-01|        25|nyt://article/bd8...|\n",
      "|       Foreign|             World|Middle East|               News|Pro-Iranian Prote...|Iran’s ability to...|['Iraq', 'Iran', ...|      1120|2020-01-01|       123|nyt://article/ac7...|\n",
      "|      Magazine|          Magazine|       null|               News|Judge John Hodgma...|If you brother-in...|['Comedy and Humor']|       153|2020-01-01|        22|nyt://article/dea...|\n",
      "|      Magazine|          Magazine|       null|               News|She Felt Fine, bu...|After the 67-year...|['Stroke', 'Brain...|      1395|2020-01-01|       134|nyt://article/dfd...|\n",
      "|      Magazine|          Magazine|       null|               News|These Armenian Fl...|Tangy and juicy, ...|['Cooking and Coo...|       754|2020-01-01|        21|nyt://article/622...|\n",
      "|       Culture|             Books|       null|             Review|‘Don’t Believe a ...|David Shariatmada...|[\"Don't Believe a...|       957|2020-01-01|        21|nyt://article/7d9...|\n",
      "|          Well|              Well|        Eat|               News|Eat Better, Feel ...|Intermittent fast...|['Weight', 'Fasti...|       440|2020-01-01|        58|nyt://article/da7...|\n",
      "|      Magazine|          Magazine|       null|               News|Can You Talk Your...|California is giv...|['California', 'P...|      9781|2020-01-01|       116|nyt://article/47b...|\n",
      "|  Arts&Leisure|              Arts|      Dance|               News|Couture Creations...|An exhibition at ...|['Dancing', 'Fash...|      1608|2020-01-01|         2|nyt://article/ea2...|\n",
      "|    RealEstate|       Real Estate|       null|               News|Bedminster, N.J.:...|Residents of the ...|['Real Estate and...|      1403|2020-01-01|        13|nyt://article/51c...|\n",
      "|SundayBusiness|      Business Day|       null|               News|The Work Diary of...|In an iCal era, t...|['Design', 'Winte...|      1957|2020-01-01|         5|nyt://article/3a4...|\n",
      "|    RealEstate|       Real Estate|       null|               News|$750,000 Homes in...|A brand-new cotta...|['Real Estate and...|       959|2020-01-01|        18|nyt://article/7fe...|\n",
      "|    RealEstate|       Real Estate|       null|               News|House Hunting in ...|In Galicia, where...|['Real Estate and...|      1385|2020-01-01|         6|nyt://article/310...|\n",
      "|  Arts&Leisure|           Theater|       null|               News|Simon Stone Faced...|After a family tr...|['Theater', 'Broo...|      1699|2020-01-01|         2|nyt://article/8f9...|\n",
      "|       Weekend|            Movies|       null|               News|Reading ‘Us’ Thro...|With its star, Lu...|['Movies', 'Peele...|       775|2020-01-01|         3|nyt://article/c42...|\n",
      "|        Styles|             Style|  Self-Care|               News|There Will Be Blo...|Some help — and c...|['Anxiety and Str...|      1416|2020-01-01|        26|nyt://article/41c...|\n",
      "+--------------+------------------+-----------+-------------------+--------------------+--------------------+--------------------+----------+----------+----------+--------------------+\n",
      "only showing top 20 rows\n",
      "\n"
     ]
    }
   ],
   "source": [
    "articles_df.show()"
   ]
  },
  {
   "cell_type": "code",
   "execution_count": 22,
   "id": "ec44f31a",
   "metadata": {
    "scrolled": true
   },
   "outputs": [
    {
     "name": "stdout",
     "output_type": "stream",
     "text": [
      "+--------------------+--------------------+--------------------+----------+\n",
      "|            abstract|            keywords|           articleID|pubDateInt|\n",
      "+--------------------+--------------------+--------------------+----------+\n",
      "|Congress could do...|['Veterans', 'For...|nyt://article/69a...|1577833200|\n",
      "|Christina Iverson...|['Crossword Puzzl...|nyt://article/9ed...|1577833200|\n",
      "|All year long, Ea...|['Meteors and Met...|nyt://article/04b...|1577833200|\n",
      "|Never miss an ecl...|['Space and Astro...|nyt://interactive...|1577833200|\n",
      "|A year full of hi...|['Space and Astro...|nyt://article/bd8...|1577833200|\n",
      "|Iran’s ability to...|['Iraq', 'Iran', ...|nyt://article/ac7...|1577833200|\n",
      "|If you brother-in...|['Comedy and Humor']|nyt://article/dea...|1577833200|\n",
      "|After the 67-year...|['Stroke', 'Brain...|nyt://article/dfd...|1577833200|\n",
      "|Tangy and juicy, ...|['Cooking and Coo...|nyt://article/622...|1577833200|\n",
      "|David Shariatmada...|[\"Don't Believe a...|nyt://article/7d9...|1577833200|\n",
      "|Intermittent fast...|['Weight', 'Fasti...|nyt://article/da7...|1577833200|\n",
      "|California is giv...|['California', 'P...|nyt://article/47b...|1577833200|\n",
      "|An exhibition at ...|['Dancing', 'Fash...|nyt://article/ea2...|1577833200|\n",
      "|Residents of the ...|['Real Estate and...|nyt://article/51c...|1577833200|\n",
      "|In an iCal era, t...|['Design', 'Winte...|nyt://article/3a4...|1577833200|\n",
      "|A brand-new cotta...|['Real Estate and...|nyt://article/7fe...|1577833200|\n",
      "|In Galicia, where...|['Real Estate and...|nyt://article/310...|1577833200|\n",
      "|After a family tr...|['Theater', 'Broo...|nyt://article/8f9...|1577833200|\n",
      "|With its star, Lu...|['Movies', 'Peele...|nyt://article/c42...|1577833200|\n",
      "|Some help — and c...|['Anxiety and Str...|nyt://article/41c...|1577833200|\n",
      "+--------------------+--------------------+--------------------+----------+\n",
      "only showing top 20 rows\n",
      "\n"
     ]
    }
   ],
   "source": [
    "aritcles_data.show()"
   ]
  },
  {
   "cell_type": "code",
   "execution_count": 23,
   "id": "e3cb2e4f",
   "metadata": {},
   "outputs": [],
   "source": [
    "from  pyspark.ml.linalg import DenseVector "
   ]
  },
  {
   "cell_type": "code",
   "execution_count": 24,
   "id": "675e209e",
   "metadata": {},
   "outputs": [],
   "source": [
    "from pyspark.sql.functions import udf\n",
    "from pyspark.ml.linalg import VectorUDT\n",
    "from pyspark.ml.stat import Summarizer"
   ]
  },
  {
   "cell_type": "code",
   "execution_count": 25,
   "id": "d70fe22b",
   "metadata": {},
   "outputs": [],
   "source": [
    "def get_vector(df,column='commentBody',leave_columns =[\"commentID\"]):\n",
    "    df_without_nulls = df.filter(~ col(column).isNull())\n",
    "    df_with_nulls = df.filter(col(column).isNull()).drop(column)\n",
    "    df_without_nulls = df_without_nulls.withColumn(column, trim(regexp_replace(column,'(@\\w+)|[^a-zA-Z\\s]', '')))\n",
    "    df_without_nulls = df_without_nulls.select(*leave_columns,split(col(column),\" \").alias(column))\n",
    "    remover = StopWordsRemover(inputCol=column, outputCol=\"filtered\")\n",
    "    filtered = remover.transform(df_without_nulls)\n",
    "    word2vec = Word2Vec(inputCol=\"filtered\", outputCol=f\"feature_{column}\")\n",
    "    model = word2vec.fit(filtered)\n",
    "    vectorized = model.transform(filtered)\n",
    "    vectorized = vectorized.drop(\"filtered\",column)\n",
    "    if df_with_nulls.count() > 0:\n",
    "        df_with_nulls = df_with_nulls.withColumn(f\"feature_{column}\",lit(None))\n",
    "        mean_vector = vectorized.agg(Summarizer.mean(vectorized[f\"feature_{column}\"])).collect()[0][f'mean(feature_{column})']\n",
    "        fill_with_mean_vector = udf(lambda: DenseVector(mean_vector.tolist()), VectorUDT())\n",
    "        df_with_nulls = df_with_nulls.withColumn(f\"feature_{column}\", fill_with_mean_vector())\n",
    "        vectorized = df_with_nulls.unionByName(vectorized)\n",
    "    return vectorized"
   ]
  },
  {
   "cell_type": "code",
   "execution_count": null,
   "id": "3a276b46",
   "metadata": {},
   "outputs": [],
   "source": []
  },
  {
   "cell_type": "code",
   "execution_count": 26,
   "id": "ee793287",
   "metadata": {},
   "outputs": [],
   "source": [
    "def vectorize_cols(df, columns, leave_columns):\n",
    "    leave_columns = set(leave_columns).union(set(columns))\n",
    "    df_out = None\n",
    "    for c in columns:\n",
    "        df_temp = get_vector(df, column=c, leave_columns = list(leave_columns.difference(set([c]))))\n",
    "        df_temp = df_temp.withColumn(\"articleID\", regexp_replace('articleID', '\\r', ''))\n",
    "        if df_out is None:\n",
    "            df_out = df_temp\n",
    "        else:\n",
    "            unique_columns = list(set(df_temp.columns).difference(set(df_out.columns)))\n",
    "            df_out = df_out.join(df_temp.select('articleID',*unique_columns), on='articleID', how='inner')\n",
    "            \n",
    "    return df_out.drop(*columns)"
   ]
  },
  {
   "cell_type": "code",
   "execution_count": 27,
   "id": "f7cffb0c",
   "metadata": {},
   "outputs": [
    {
     "name": "stderr",
     "output_type": "stream",
     "text": [
      "22/06/25 19:08:48 WARN StopWordsRemover: Default locale set was [en_PL]; however, it was not found in available locales in JVM, falling back to en_US locale. Set param `locale` in order to respect another locale.\n",
      "22/06/25 19:08:49 WARN BLAS: Failed to load implementation from: com.github.fommil.netlib.NativeSystemBLAS\n",
      "22/06/25 19:08:49 WARN BLAS: Failed to load implementation from: com.github.fommil.netlib.NativeRefBLAS\n",
      "22/06/25 19:08:49 WARN StopWordsRemover: Default locale set was [en_PL]; however, it was not found in available locales in JVM, falling back to en_US locale. Set param `locale` in order to respect another locale.\n",
      "22/06/25 19:08:53 WARN StopWordsRemover: Default locale set was [en_PL]; however, it was not found in available locales in JVM, falling back to en_US locale. Set param `locale` in order to respect another locale.\n",
      "                                                                                \r"
     ]
    }
   ],
   "source": [
    "comments_df_leave_columns = ['commentID','createDateInt','recommendations','articleID','replyCount']\n",
    "df = vectorize_cols(comments_df,columns=['commentBody'],leave_columns=comments_df_leave_columns)\n",
    "df2 = vectorize_cols(aritcles_data,columns=['abstract','keywords'],leave_columns=aritcles_data.columns)"
   ]
  },
  {
   "cell_type": "code",
   "execution_count": 28,
   "id": "6fb141d4",
   "metadata": {},
   "outputs": [
    {
     "name": "stdout",
     "output_type": "stream",
     "text": [
      "+-------------+---------+---------------+--------------------+----------+--------------------+\n",
      "|createDateInt|commentID|recommendations|           articleID|replyCount| feature_commentBody|\n",
      "+-------------+---------+---------------+--------------------+----------+--------------------+\n",
      "|   1577833200|104387472|            7.0|nyt://article/69a...|         5|[-0.0168700660837...|\n",
      "|   1577833200|104387873|           17.0|nyt://article/69a...|         0|[-0.0272951105632...|\n",
      "|   1577833200|104387976|            8.0|nyt://article/69a...|         0|[-0.0068847438320...|\n",
      "|   1577833200|104390628|            1.0|nyt://article/69a...|         0|[-0.0108948359804...|\n",
      "|   1577833200|104391463|            1.0|nyt://article/69a...|         0|[-0.0212304528077...|\n",
      "|   1577833200|104392390|            0.0|nyt://article/69a...|         0|[-0.0105680347346...|\n",
      "|   1577833200|104387855|            7.0|nyt://article/69a...|         0|[-0.0018281377851...|\n",
      "|   1577833200|104388656|           10.0|nyt://article/69a...|         0|[0.00265301618492...|\n",
      "|   1577833200|104388073|            1.0|nyt://article/69a...|         2|[-0.0096165991322...|\n",
      "|   1577833200|104391045|            0.0|nyt://article/69a...|         0|[-0.0086897355645...|\n",
      "|   1577833200|104391967|            0.0|nyt://article/69a...|         0|[-0.0328412069939...|\n",
      "|   1577833200|104388652|           16.0|nyt://article/69a...|         0|[-0.0115303083439...|\n",
      "|   1577833200|104388717|            7.0|nyt://article/69a...|         0|[-0.0071336580979...|\n",
      "|   1577833200|104391421|            2.0|nyt://article/69a...|         0|[0.00480493441732...|\n",
      "|   1577833200|104392781|            1.0|nyt://article/69a...|         0|[-0.0089136451534...|\n",
      "|   1577833200|104388486|            6.0|nyt://article/69a...|         1|[-0.0089261202720...|\n",
      "|   1577833200|104388952|            0.0|nyt://article/69a...|         0|[-0.0124089588114...|\n",
      "|   1577833200|104388672|           15.0|nyt://article/69a...|         1|[-0.0158422507229...|\n",
      "|   1577833200|104388821|            1.0|nyt://article/69a...|         0|[0.00573928760630...|\n",
      "|   1577833200|104389130|            4.0|nyt://article/69a...|         5|[-0.0014992428199...|\n",
      "+-------------+---------+---------------+--------------------+----------+--------------------+\n",
      "only showing top 20 rows\n",
      "\n",
      "+--------------------+----------+--------------------+--------------------+\n",
      "|           articleID|pubDateInt|    feature_abstract|    feature_keywords|\n",
      "+--------------------+----------+--------------------+--------------------+\n",
      "|nyt://interactive...|1581289200|[0.01770167522796...|[0.10354276628870...|\n",
      "|nyt://interactive...|1586296800|[0.01770167522796...|[-0.1174935182556...|\n",
      "|nyt://article/8db...|1586469600|[0.01770167522796...|[-0.0160443808883...|\n",
      "|nyt://article/69a...|1577833200|[0.01665716669392...|[-0.0261371417769...|\n",
      "|nyt://article/9ed...|1577833200|[-0.0245739496978...|[-0.0927944802679...|\n",
      "|nyt://article/04b...|1577833200|[0.01239101345916...|[0.18091596762782...|\n",
      "|nyt://interactive...|1577833200|[0.01039358377844...|[0.13429196409124...|\n",
      "|nyt://article/bd8...|1577833200|[0.01737631208573...|[0.09796487957623...|\n",
      "|nyt://article/ac7...|1577833200|[0.02104590791277...|[-0.0812549559244...|\n",
      "|nyt://article/dea...|1577833200|[0.01728145063971...|[-0.0507569834589...|\n",
      "|nyt://article/dfd...|1577833200|[0.01469934663663...|[-0.0027728067710...|\n",
      "|nyt://article/622...|1577833200|[0.00353762613270...|[-0.0246704458259...|\n",
      "|nyt://article/7d9...|1577833200|[0.01478581249830...|[-0.0268580473959...|\n",
      "|nyt://article/da7...|1577833200|[0.01069773669587...|[-0.1084178378805...|\n",
      "|nyt://article/47b...|1577833200|[0.01989870156782...|[0.02382081199903...|\n",
      "|nyt://article/ea2...|1577833200|[0.00633600565682...|[-0.0027681880719...|\n",
      "|nyt://article/51c...|1577833200|[0.00948854058515...|[0.03132602128693...|\n",
      "|nyt://article/3a4...|1577833200|[0.00367421198170...|[0.04584259971637...|\n",
      "|nyt://article/7fe...|1577833200|[-0.0145380000512...|[0.07541633465073...|\n",
      "|nyt://article/310...|1577833200|[0.00911672064103...|[0.03735728408209...|\n",
      "+--------------------+----------+--------------------+--------------------+\n",
      "only showing top 20 rows\n",
      "\n"
     ]
    }
   ],
   "source": [
    "df.show()\n",
    "df2.show()"
   ]
  },
  {
   "cell_type": "code",
   "execution_count": 29,
   "id": "419504b3",
   "metadata": {},
   "outputs": [],
   "source": [
    "df = df.withColumn(\"articleID\", regexp_replace('articleID', '\\r', ''))\n",
    "df2 = df2.withColumn(\"articleID\", regexp_replace('articleID', '\\r', ''))"
   ]
  },
  {
   "cell_type": "code",
   "execution_count": 30,
   "id": "46c1dc24",
   "metadata": {},
   "outputs": [],
   "source": [
    "full_df = df.join(df2,on='articleID',how='inner')"
   ]
  },
  {
   "cell_type": "code",
   "execution_count": 31,
   "id": "cf7e6ce0",
   "metadata": {},
   "outputs": [],
   "source": [
    "from pyspark.sql.types import DoubleType"
   ]
  },
  {
   "cell_type": "code",
   "execution_count": 32,
   "id": "baae2b7a",
   "metadata": {},
   "outputs": [],
   "source": [
    "full_df = full_df.withColumn('time_passed', abs(full_df['pubDateInt'] - full_df['createDateInt']).cast(DoubleType()))\n",
    "full_df = full_df.drop('pubDateInt','createDateInt')"
   ]
  },
  {
   "cell_type": "code",
   "execution_count": 33,
   "id": "134bd85e",
   "metadata": {},
   "outputs": [],
   "source": [
    "from pyspark.ml.feature import StandardScaler\n",
    "from pyspark.ml.feature import VectorAssembler"
   ]
  },
  {
   "cell_type": "code",
   "execution_count": 34,
   "id": "681d648b",
   "metadata": {},
   "outputs": [],
   "source": [
    "def standarize_num_column(df,columns=['time_passed']):\n",
    "    for column in columns:\n",
    "        df = VectorAssembler(\n",
    "          inputCols=[column], outputCol=f\"{column}_vector\"\n",
    "        ).transform(df)\n",
    "\n",
    "        df = StandardScaler(\n",
    "              inputCol=f\"{column}_vector\", outputCol=f\"scaled_{column}\",\n",
    "              withStd=True, withMean=False\n",
    "            ).fit(df).transform(df)\n",
    "        df = df.drop(f\"{column}_vector\",column)\n",
    "    return df"
   ]
  },
  {
   "cell_type": "code",
   "execution_count": 35,
   "id": "3d52921e",
   "metadata": {},
   "outputs": [],
   "source": [
    "full_df = standarize_num_column(full_df,['time_passed','replyCount'])"
   ]
  },
  {
   "cell_type": "code",
   "execution_count": 36,
   "id": "ce34b043",
   "metadata": {
    "scrolled": true
   },
   "outputs": [
    {
     "name": "stdout",
     "output_type": "stream",
     "text": [
      "root\n",
      " |-- articleID: string (nullable = true)\n",
      " |-- commentID: integer (nullable = true)\n",
      " |-- recommendations: float (nullable = true)\n",
      " |-- feature_commentBody: vector (nullable = true)\n",
      " |-- feature_abstract: vector (nullable = true)\n",
      " |-- feature_keywords: vector (nullable = true)\n",
      " |-- scaled_time_passed: vector (nullable = true)\n",
      " |-- scaled_replyCount: vector (nullable = true)\n",
      "\n"
     ]
    }
   ],
   "source": [
    "full_df.printSchema()"
   ]
  },
  {
   "cell_type": "code",
   "execution_count": 37,
   "id": "eebcf3c9",
   "metadata": {},
   "outputs": [],
   "source": [
    "from pyspark.ml.feature import VectorAssembler\n",
    "\n",
    "numericCols = ['feature_abstract', 'feature_commentBody','feature_keywords','scaled_time_passed','scaled_replyCount']\n",
    "assembler = VectorAssembler(inputCols=numericCols, outputCol=\"features\")\n",
    "full_df = assembler.transform(full_df).drop(*numericCols)"
   ]
  },
  {
   "cell_type": "code",
   "execution_count": 38,
   "id": "facc5081",
   "metadata": {},
   "outputs": [],
   "source": [
    "from pyspark.ml.feature import Bucketizer\n",
    "bucketizer = Bucketizer(splits=[ 0, 6, 12, 18, float('Inf') ],inputCol=\"recommendations\", outputCol=\"buckets\")\n",
    "full_df = bucketizer.setHandleInvalid(\"keep\").transform(full_df)"
   ]
  },
  {
   "cell_type": "code",
   "execution_count": 39,
   "id": "05e2ac1b",
   "metadata": {},
   "outputs": [
    {
     "name": "stdout",
     "output_type": "stream",
     "text": [
      "root\n",
      " |-- articleID: string (nullable = true)\n",
      " |-- commentID: integer (nullable = true)\n",
      " |-- recommendations: float (nullable = true)\n",
      " |-- features: vector (nullable = true)\n",
      " |-- buckets: double (nullable = true)\n",
      "\n"
     ]
    }
   ],
   "source": [
    "full_df.printSchema()"
   ]
  },
  {
   "cell_type": "code",
   "execution_count": 40,
   "id": "96364aff",
   "metadata": {},
   "outputs": [],
   "source": [
    "#### TODO ####\n",
    "\n",
    "# from pyspark.mllib.linalg.distributed import RowMatrix\n",
    "# from pyspark.mllib.linalg import Vectors, VectorUDT\n",
    "# from pyspark.sql.functions import udf, array\n",
    "\n",
    "# mat = RowMatrix(full_df.select('features'))\n",
    "# pc = mat.computePrincipalComponents(10)\n",
    "# projected = mat.multiply(pc)"
   ]
  },
  {
   "cell_type": "code",
   "execution_count": 41,
   "id": "262a4010",
   "metadata": {},
   "outputs": [
    {
     "name": "stderr",
     "output_type": "stream",
     "text": [
      "22/06/25 19:09:02 WARN LAPACK: Failed to load implementation from: com.github.fommil.netlib.NativeSystemLAPACK\n",
      "22/06/25 19:09:02 WARN LAPACK: Failed to load implementation from: com.github.fommil.netlib.NativeRefLAPACK\n"
     ]
    },
    {
     "name": "stdout",
     "output_type": "stream",
     "text": [
      "root\n",
      " |-- articleID: string (nullable = true)\n",
      " |-- commentID: integer (nullable = true)\n",
      " |-- recommendations: float (nullable = true)\n",
      " |-- buckets: double (nullable = true)\n",
      " |-- pca_features: vector (nullable = true)\n",
      " |-- features: vector (nullable = true)\n",
      "\n"
     ]
    }
   ],
   "source": [
    "from pyspark.ml.feature import PCA\n",
    "\n",
    "pca = PCA(k=30, inputCol=\"features\")\n",
    "pca.setOutputCol(\"pca_features\")\n",
    "df = pca.fit(full_df).transform(full_df)\n",
    "df = df.drop('features').withColumn('features',col('pca_features'))\n",
    "df.printSchema()"
   ]
  },
  {
   "cell_type": "code",
   "execution_count": 42,
   "id": "c0f83cd8",
   "metadata": {},
   "outputs": [
    {
     "name": "stdout",
     "output_type": "stream",
     "text": [
      "+--------------+-------+--------------------+\n",
      "|predictedLabel|buckets|            features|\n",
      "+--------------+-------+--------------------+\n",
      "|           0.0|    1.0|[0.24138544553394...|\n",
      "|           0.0|    2.0|[0.24130585726171...|\n",
      "|           0.0|    1.0|[0.24064529996499...|\n",
      "|           1.0|    0.0|[-0.0760150297574...|\n",
      "|           1.0|    1.0|[-0.0768987026052...|\n",
      "|           1.0|    0.0|[0.22075581893359...|\n",
      "|           2.0|    1.0|[0.00887913634709...|\n",
      "|           0.0|    0.0|[0.00943497504472...|\n",
      "|           0.0|    0.0|[0.00918091160304...|\n",
      "|           0.0|    2.0|[0.00939770954939...|\n",
      "|           1.0|    0.0|[0.00714019600292...|\n",
      "|           0.0|    1.0|[0.00774020249022...|\n",
      "|           0.0|    0.0|[0.00777205477766...|\n",
      "|           0.0|    1.0|[0.00830571568021...|\n",
      "|           1.0|    2.0|[0.00697942290259...|\n",
      "+--------------+-------+--------------------+\n",
      "only showing top 15 rows\n",
      "\n",
      "Test Error = 0.341463\n",
      "RandomForestClassificationModel: uid=RandomForestClassifier_f2adf8c646b2, numTrees=20, numClasses=4, numFeatures=30\n"
     ]
    }
   ],
   "source": [
    "from pyspark.ml import Pipeline\n",
    "from pyspark.ml.classification import RandomForestClassifier\n",
    "from pyspark.ml.feature import IndexToString, StringIndexer, VectorIndexer\n",
    "from pyspark.ml.evaluation import MulticlassClassificationEvaluator\n",
    "\n",
    "# Load and parse the data file, converting it to a DataFrame.\n",
    "data = df\n",
    "\n",
    "# Index labels, adding metadata to the label column.\n",
    "# Fit on whole dataset to include all labels in index.\n",
    "labelIndexer = StringIndexer(inputCol=\"buckets\", outputCol=\"indexedLabel\").fit(data)\n",
    "\n",
    "# Automatically identify categorical features, and index them.\n",
    "# Set maxCategories so features with > 4 distinct values are treated as continuous.\n",
    "featureIndexer =\\\n",
    "    VectorIndexer(inputCol=\"features\", outputCol=\"indexedFeatures\").fit(data)\n",
    "\n",
    "# Split the data into training and test sets (30% held out for testing)\n",
    "(trainingData, testData) = data.randomSplit([0.7, 0.3])\n",
    "\n",
    "# Train a RandomForest model.\n",
    "rf = RandomForestClassifier(labelCol=\"buckets\", featuresCol=\"indexedFeatures\")\n",
    "\n",
    "# Convert indexed labels back to original labels.\n",
    "labelConverter = IndexToString(inputCol=\"prediction\", outputCol=\"predictedLabel\",\n",
    "                               labels=labelIndexer.labels)\n",
    "\n",
    "# Chain indexers and forest in a Pipeline\n",
    "pipeline = Pipeline(stages=[labelIndexer, featureIndexer, rf, labelConverter])\n",
    "\n",
    "# Train model.  This also runs the indexers.\n",
    "model = pipeline.fit(trainingData)\n",
    "\n",
    "# Make predictions.\n",
    "predictions = model.transform(testData)\n",
    "\n",
    "# Select example rows to display.\n",
    "predictions.select(\"predictedLabel\", \"buckets\", \"features\").show(15)\n",
    "\n",
    "# Select (prediction, true label) and compute test error\n",
    "evaluator = MulticlassClassificationEvaluator(\n",
    "    labelCol=\"buckets\", predictionCol=\"prediction\", metricName=\"accuracy\")\n",
    "accuracy = evaluator.evaluate(predictions)\n",
    "print(\"Test Error = %g\" % (1.0 - accuracy))\n",
    "\n",
    "rfModel = model.stages[2]\n",
    "print(rfModel)  # summary only"
   ]
  }
 ],
 "metadata": {
  "kernelspec": {
   "display_name": "Python 3 (ipykernel)",
   "language": "python",
   "name": "python3"
  },
  "language_info": {
   "codemirror_mode": {
    "name": "ipython",
    "version": 3
   },
   "file_extension": ".py",
   "mimetype": "text/x-python",
   "name": "python",
   "nbconvert_exporter": "python",
   "pygments_lexer": "ipython3",
   "version": "3.9.13"
  }
 },
 "nbformat": 4,
 "nbformat_minor": 5
}
